{
 "cells": [
  {
   "cell_type": "code",
   "execution_count": 10,
   "metadata": {},
   "outputs": [
    {
     "name": "stdout",
     "output_type": "stream",
     "text": [
      "translate the following to english\n",
      "そもそも は 、 一般 の 僧侶 と い う 概念 （ 世間 と の 縁 を 断 っ て 出家 し 修行 する 人々 ） や 世間 内 で 生活 する 仏教 徒 （ 在家 ） と し て の 規範 から はみ出 さ ざる を 得 な い 人々 を 救済 する の が 本願 念仏 で あ る と 、 師 法然 から 継承 し た 親鸞 が 、 それ を 実践 し 僧 と し て 初めて 公式 に 妻帯 し 子 を 設け た こと に 由来 する 。\n",
      "response\n",
      " \n",
      "\n",
      "\n",
      "give the word to word alignment of the following\n",
      "originally , shinran learned that helping those who cannot help but stray from the concept of a general monk ( who enters the priesthood and practices asceticism , renouncing the world ) and the norm of buddhists ( laity ) living in the world is hongan nenbutsu ( praying for the vows ) from his master honen , and became the first monk to openly get married and have a child .\n",
      "そもそも は 、 一般 の 僧侶 と い う 概念 （ 世間 と の 縁 を 断 っ て 出家 し 修行 する 人々 ） や 世間 内 で 生活 する 仏教 徒 （ 在家 ） と し て の 規範 から はみ出 さ ざる を 得 な い 人々 を 救済 する の が 本願 念仏 で あ る と 、 師 法然 から 継承 し た 親鸞 が 、 それ を 実践 し 僧 と し て 初めて 公式 に 妻帯 し 子 を 設け た こと に 由来 する 。\n",
      "response\n",
      "[('originally', 'そもそも'), (',', '、'), ('shinran', '親鸞'), ('learned', '継承'), ('learned', 'し'), ('learned', 'た'), ('helping', '救済'), ('helping', 'する'), ('those', '人々'), ('who', '人々'), ('cannot', 'さ'), ('cannot', 'ざる'), ('cannot', 'を'), ('cannot', '得'), ('cannot', 'な'), ('cannot', 'い'), ('help', 'さ'), ('help', 'ざる'), ('help', 'を'), ('help', '得'), ('help', 'な'), ('help', 'い'), ('stray', 'はみ出'), ('from', 'から'), ('concept', '概念'), ('of', 'と'), ('of', 'い'), ('of', 'う'), ('general', '一般'), ('general', 'の'), ('monk', '僧侶'), ('(', '（'), ('who', '人々'), ('enters', '出家'), ('enters', 'し'), ('the', '出家'), ('the', 'し'), ('priesthood', '出家'), ('priesthood', 'し'), ('practices', '修行'), ('practices', 'する'), ('asceticism', '修行'), ('asceticism', 'する'), ('renouncing', '縁'), ('renouncing', 'を'), ('renouncing', '断'), ('renouncing', 'っ'), ('renouncing', 'て'), ('world', '世間'), ('and', 'や'), ('norm', '規範'), ('of', 'と'), ('of', 'し'), ('of', 'て'), ('of', 'の'), ('buddhists', '仏教'), ('buddhists', '徒'), ('(', '（'), ('laity', '在家'), (')', '）'), ('living', '生活'), ('living', 'する'), ('in', '内'), ('in', 'で'), ('world', '世間'), ('is', 'で'), ('is', 'あ'), ('is', 'る'), ('hongan', '本願'), ('nenbutsu', '念仏'), ('praying', '本願'), ('praying', '念仏'), ('for', '本願'), ('for', '念仏'), ('the', '本願'), ('the', '念仏'), ('vows', '本願'), ('vows', '念仏'), ('from', 'から'), ('master', '師'), ('honen', '法然'), (',', '、'), ('became', 'と'), ('became', 'し'), ('became', 'て'), ('first', '初めて'), ('monk', '僧'), ('openly', '公式'), ('openly', 'に'), ('get', '妻帯'), ('married', '妻帯'), ('and', 'し'), ('have', '設け'), ('have', 'た'), ('child', '子'), ('.', '。')]\n",
      "\n",
      "\n",
      "using the word alignment, and the following word index labels, produce a Pharaoh format word to word index mappings, where i-j represents a mapping between the source (English) word i and the target (Japanese) word j:\n",
      "[(0, 'そもそも'), (1, 'は'), (2, '、'), (3, '一般'), (4, 'の'), (5, '僧侶'), (6, 'と'), (7, 'い'), (8, 'う'), (9, '概念'), (10, '（'), (11, '世間'), (12, 'と'), (13, 'の'), (14, '縁'), (15, 'を'), (16, '断'), (17, 'っ'), (18, 'て'), (19, '出家'), (20, 'し'), (21, '修行'), (22, 'する'), (23, '人々'), (24, '）'), (25, 'や'), (26, '世間'), (27, '内'), (28, 'で'), (29, '生活'), (30, 'する'), (31, '仏教'), (32, '徒'), (33, '（'), (34, '在家'), (35, '）'), (36, 'と'), (37, 'し'), (38, 'て'), (39, 'の'), (40, '規範'), (41, 'から'), (42, 'はみ出'), (43, 'さ'), (44, 'ざる'), (45, 'を'), (46, '得'), (47, 'な'), (48, 'い'), (49, '人々'), (50, 'を'), (51, '救済'), (52, 'する'), (53, 'の'), (54, 'が'), (55, '本願'), (56, '念仏'), (57, 'で'), (58, 'あ'), (59, 'る'), (60, 'と'), (61, '、'), (62, '師'), (63, '法然'), (64, 'から'), (65, '継承'), (66, 'し'), (67, 'た'), (68, '親鸞'), (69, 'が'), (70, '、'), (71, 'それ'), (72, 'を'), (73, '実践'), (74, 'し'), (75, '僧'), (76, 'と'), (77, 'し'), (78, 'て'), (79, '初めて'), (80, '公式'), (81, 'に'), (82, '妻帯'), (83, 'し'), (84, '子'), (85, 'を'), (86, '設け'), (87, 'た'), (88, 'こと'), (89, 'に'), (90, '由来'), (91, 'する'), (92, '。')] [(0, 'originally'), (1, ','), (2, 'shinran'), (3, 'learned'), (4, 'that'), (5, 'helping'), (6, 'those'), (7, 'who'), (8, 'cannot'), (9, 'help'), (10, 'but'), (11, 'stray'), (12, 'from'), (13, 'the'), (14, 'concept'), (15, 'of'), (16, 'a'), (17, 'general'), (18, 'monk'), (19, '('), (20, 'who'), (21, 'enters'), (22, 'the'), (23, 'priesthood'), (24, 'and'), (25, 'practices'), (26, 'asceticism'), (27, ','), (28, 'renouncing'), (29, 'the'), (30, 'world'), (31, ')'), (32, 'and'), (33, 'the'), (34, 'norm'), (35, 'of'), (36, 'buddhists'), (37, '('), (38, 'laity'), (39, ')'), (40, 'living'), (41, 'in'), (42, 'the'), (43, 'world'), (44, 'is'), (45, 'hongan'), (46, 'nenbutsu'), (47, '('), (48, 'praying'), (49, 'for'), (50, 'the'), (51, 'vows'), (52, ')'), (53, 'from'), (54, 'his'), (55, 'master'), (56, 'honen'), (57, ','), (58, 'and'), (59, 'became'), (60, 'the'), (61, 'first'), (62, 'monk'), (63, 'to'), (64, 'openly'), (65, 'get'), (66, 'married'), (67, 'and'), (68, 'have'), (69, 'a'), (70, 'child'), (71, '.')]\n",
      "response\n",
      "('originally', 'そもそも') 0-0\n",
      "(',', '、') 1-2\n",
      "('shinran', '親鸞') 2-68\n",
      "('learned', '継承') 3-65\n",
      "('learned', 'し') 3-66\n",
      "('learned', 'た') 3-67\n",
      "('helping', '救済') 5-51\n",
      "('helping', 'する') 5-52\n",
      "('those', '人々') 6-49\n",
      "('who', '人々') 7-49\n",
      "('cannot', 'さ') 8-43\n",
      "('cannot', 'ざる') 8-44\n",
      "('cannot', 'を') 8-45\n",
      "('cannot', '得') 8-46\n",
      "('cannot', 'な') 8-47\n",
      "('cannot', 'い') 8-48\n",
      "('help', 'さ') 9-43\n",
      "('help', 'ざる') 9-44\n",
      "('help', 'を') 9-45\n",
      "('help', '得') 9-46\n",
      "('help', 'な') 9-47\n",
      "('help', 'い') 9-48\n",
      "('stray', 'はみ出') 11-42\n",
      "('from', 'から') 12-41\n",
      "('concept', '概念') 14-9\n",
      "('of', 'と') 15-6\n",
      "('of', 'い') 15-7\n",
      "('of', 'う') 15-8\n",
      "('general', '一般') 17-3\n",
      "('general', 'の') 17-4\n",
      "('monk', '僧侶') 18-5\n",
      "('(', '（') 19-10\n",
      "('who', '人々') 20-23\n",
      "('enters', '出家') 21-19\n",
      "('enters', 'し') 21-20\n",
      "('the', '出家') 22-19\n",
      "('the', 'し') 22-20\n",
      "('priesthood', '出家') 23-19\n",
      "('priesthood', 'し') 23-20\n",
      "('practices', '修行') 25-21\n",
      "('practices', 'する') 25-22\n",
      "('asceticism', '修行') 26-21\n",
      "('asceticism', 'する') 26-22\n",
      "('renouncing', '縁') 28-14\n",
      "('renouncing', 'を') 28-15\n",
      "('renouncing', '断') 28-16\n",
      "('renouncing', 'っ') 28-17\n",
      "('renouncing', 'て') 28-18\n",
      "('world', '世間') 30-11\n",
      "('and', 'や') 32-25\n",
      "('norm', '規範') 34-40\n",
      "('of', 'と') 35-36\n",
      "('of', 'し') 35-37\n",
      "('of', 'て') 35-38\n",
      "('of', 'の') 35-39\n",
      "('buddhists', '仏教') 36-31\n",
      "('buddhists', '徒') 36-32\n",
      "('(', '（') 37-33\n",
      "('laity', '在家') 38-34\n",
      "(')', '）') 39-35\n",
      "('living', '生活') 40-29\n",
      "('living', 'する') 40-30\n",
      "('in', '内') 41-27\n",
      "('in', 'で') 41-28\n",
      "('world', '世間') 43-26\n",
      "('is', 'で') 44-57\n",
      "('is', 'あ') 44-58\n",
      "('is', 'る') 44-59\n",
      "('hongan', '本願') 45-55\n",
      "('nenbutsu', '念仏') 46-56\n",
      "('praying', '本願') 48-55\n",
      "('praying', '念仏') 48-56\n",
      "('for', '本願') 49-55\n",
      "('for', '念仏') 49-56\n",
      "('the', '本願') 50-55\n",
      "('the', '念仏') 50-56\n",
      "('vows', '本願') 51-55\n",
      "('vows', '念仏') 51-56\n",
      "('from', 'から') 53-64\n",
      "('master', '師') 55-62\n",
      "('honen', '法然') 56-63\n",
      "(',', '、') 57-70\n",
      "('became', 'と') 59-76\n",
      "('became', 'し') 59-77\n",
      "('became', 'て') 59-78\n",
      "('first', '初めて') 61-79\n",
      "('monk', '僧') 62-75\n",
      "('openly', '公式') 64-80\n",
      "('openly', 'に') 64-81\n",
      "('get', '妻帯') 65-82\n",
      "('married', '妻帯') 66-82\n",
      "('and', 'し') 67-83\n",
      "('have', '設け') 68-86\n",
      "('have', 'た') 68-87\n",
      "('child', '子') 70-84\n",
      "('.', '。') 71-92\n",
      "**********\n"
     ]
    }
   ],
   "source": [
    "enja_lists = [\n",
    "    # \"\"\"浄土 真宗 （ じょうど しんしゅう 、 shin - buddhism , pure land buddhism ） は 、 日本 の 仏教 の 宗派 の ひと つ で 、 鎌倉 時代 初期 、 法然 の 弟子 ・ 親鸞 が 、 法然 の 教え （ 浄土 宗 ） を 継承 発展 さ せ た 教団 で あ る 。 ||| jodo shinshu ( shin-buddhism / true pure land sect ) is one of the sects of japanese buddhism , and a religious community that shinran , an apprentice of honen , succeeded and which developed honen 's doctrine ( jodo shu / pure land buddhism ) in the early kamakura period .\"\"\",\n",
    "    # \"\"\"親鸞 は 、 『 仏説 無量寿 経 』 を 『 大 無量寿 経 』 『 大 経 』 と 呼 び 特に 重ん じ た 。 ||| shinran especially esteemed \" bussetsu muryojukyo \" and called it \" daimuryojukyo \" or \" daikyo \" .\"\"\",\n",
    "    \"\"\"そもそも は 、 一般 の 僧侶 と い う 概念 （ 世間 と の 縁 を 断 っ て 出家 し 修行 する 人々 ） や 世間 内 で 生活 する 仏教 徒 （ 在家 ） と し て の 規範 から はみ出 さ ざる を 得 な い 人々 を 救済 する の が 本願 念仏 で あ る と 、 師 法然 から 継承 し た 親鸞 が 、 それ を 実践 し 僧 と し て 初めて 公式 に 妻帯 し 子 を 設け た こと に 由来 する 。 ||| originally , shinran learned that helping those who cannot help but stray from the concept of a general monk ( who enters the priesthood and practices asceticism , renouncing the world ) and the norm of buddhists ( laity ) living in the world is hongan nenbutsu ( praying for the vows ) from his master honen , and became the first monk to openly get married and have a child .\"\"\",\n",
    "]\n",
    "# Shinran placed particular importance on the ``Buddhist theory of Muryoju Sutra,'' calling it ``Great Muryoju Sutra'' and ``Taikyo.''\n",
    "# Shinran placed particular value on the ``Buddhist Theory of Myriad Life Sutra'', calling it the ``Great Mystery of Life Sutra'' and the ``Great Sutra''.\n",
    "\n",
    "# \"Shinran especially valued the 'Sutra on the Buddha of Immeasurable Life' (Bussetsu Muryōju-kyō), referring to it as the 'Great Sutra of Immeasurable Life' (Dai Muryōju-kyō) or simply the 'Great Sutra' (Daikyō).\"\n",
    "alignment_str_list = [\n",
    "    # \"\"\"0-0 1-1 2-2 3-0 4-1 6-3 7-3 8-3 10-6 11-7 13-9 16-16 17-16 18-17 19-15 21-12 22-11 23-11 24-10 25-18 25-19 26-49 27-50 28-48 30-29 31-28 32-27 33-25 34-24 37-35 38-36 39-37 40-38 41-39 41-42 41-43 42-40 42-44 43-45 44-31 45-31 46-34 47-34 48-34 49-34 50-21 50-22 51-10 52-10 53-10 54-51\"\"\",\n",
    "    # \"\"\"0-0 3-3 4-4 5-5 6-5 7-6 9-10 10-11 11-11 12-11 13-12 14-14 15-15 16-15 17-16 19-8 20-8 21-1 22-2 23-2 24-2 25-17 \"\"\",\n",
    "    \"\"\"0-0 2-1 3-17 4-17 5-18 6-15 7-15 8-15 9-14 10-19 11-30 14-28 15-28 16-28 17-28 18-28 19-21 19-22 19-23 20-21 20-22 20-23 21-25 21-26 22-25 22-26 23-20 25-32 26-43 27-41 28-41 29-40 30-40 31-36 32-36 33-37 34-38 35-39 36-35 37-35 38-35 39-35 40-34 41-12 42-11 43-8 43-9 44-8 44-9 45-8 45-9 46-8 46-9 47-8 47-9 48-8 48-9 49-6 49-7 51-5 52-5 55-45 55-48 55-49 55-50 55-51 56-46 56-48 56-49 56-50 56-51 57-44 58-44 59-44 62-55 63-56 64-53 65-3 66-3 67-3 68-2 70-57 75-62 76-59 77-59 78-59 79-61 80-64 81-64 82-65 82-66 83-67 84-70 86-68 87-68 92-71 \"\"\",\n",
    "    # \"0-0 2-1 3-17 4-17 5-18 6-15 7-15 8-15 9-14 10-19 11-30 14-28 15-28 16-28 17-28 18-28 19-21 19-22 19-23 20-21 20-22 20-23 21-25 21-26 22-25 22-26 23-20 25-32 26-43 27-41 28-41 29-40 30-40 31-36 32-36 33-37 34-38 35-39 36-35 37-35 38-35 39-35 40-34 41-12 42-11 43-8 43-9 44-8 44-9 45-8 45-9 46-8 46-9 47-8 47-9 48-8 48-9 49-6 49-7 51-5 52-5 55-45 55-48 55-49 55-50 55-51 56-46 56-48 56-49 56-50 56-51 57-44 58-44 59-44 62-55 63-56 64-53 65-3 66-3 67-3 68-2 70-57 75-62 76-59 77-59 78-59 79-61 80-64 81-64 82-65 82-66 83-67 84-70 86-68 87-68 92-71\",\n",
    "    # \"0-0 1-1 1-2 2-1 2-3 3-4 5-13 5-21 5-22 5-23 5-24 6-13 6-15 6-16 6-17 6-18 8-12 8-26 8-27 9-12 9-26 9-27 10-12 10-26 10-27 11-12 11-26 11-27 12-12 12-26 12-27 13-10 15-8 16-8 17-6 17-7 19-5 20-5 26-50 27-50 28-55 29-52 30-51 31-48 32-48 33-48 34-34 35-35 36-36 37-37 38-38 39-40 40-42 41-44 42-45 43-32 45-47 46-47 47-56\",\n",
    "    # \"0-1 1-0 2-2 3-1 4-0 6-6 7-6 8-6 14-6 15-6 16-3 17-3 21-7 22-11 23-11 29-11 30-11 31-8 32-8 36-12 38-13 39-16 40-16 41-15 42-15 43-15 44-17 46-19 46-20 46-21 48-26 49-26 50-26 56-26 57-26 58-23 59-23 63-27 64-31 65-31 66-31 72-31 73-31 74-28 75-28 80-32\",\n",
    "]\n",
    "# en_list = [\n",
    "#     # \"originally , shinran learned that helping those who cannot help but stray from the concept of a general monk ( who enters the priesthood and practices asceticism , renouncing the world ) and the norm of buddhists ( laity ) living in the world is hongan nenbutsu ( praying for the vows ) from his master honen , and became the first monk to openly get married and have a child .\",\n",
    "#     # '''\" sakuteiki gardening book \" explains how to create a garden , taking shinden-zukuri ( a style of architecture for the residence of court nobles ) into consideration , in which the theory of ' four gods = mountain , river , road and lake ' is described as the ideal basis for such a garden .''',\n",
    "#     # \"emperor uda ( june 14 , 867 - september 8 , 931 ) , the fifty-ninth japanese emperor , was in power from december 9 , 887 to august 8 , 897 .\",\n",
    "#     # \"\"\"seng-zhao cited , in his writing \" chuyuimakitsukyo ( vimalak ? rti sutra commentary ) , \" the idea of \" honmatsu , \" which had been referred to by wang bi of wei , and other scholars replaced the word \" æä»¥è¿¹ \" with \" æ¬ \" ( hon ) and defined it ( hon ) as an unfathomable nirvana ( enlightenment ) achieved by bodhisattva and \" è¿¹ \" ( jaku ) as a means to enlighten people , as used by bodhisattva .\"\"\"\n",
    "# ]\n",
    "# ja_list = [\n",
    "#     # \"そもそも は 、 一般 の 僧侶 と い う 概念 （ 世間 と の 縁 を 断 っ て 出家 し 修行 する 人々 ） や 世間 内 で 生活 する 仏教 徒 （ 在家 ） と し て の 規範 から はみ出 さ ざる を 得 な い 人々 を 救済 する の が 本願 念仏 で あ る と 、 師 法然 から 継承 し た 親鸞 が 、 それ を 実践 し 僧 と し て 初めて 公式 に 妻帯 し 子 を 設け た こと に 由来 する 。\",\n",
    "#     # \"『 作庭 記 』 は 寝殿 造 を 念頭 に お い た 庭園 の 作 り 方 を 述べ た 書物 で あ り 、 理想 の 庭園 の 姿 と し て 「 四 神 ＝ 山 川 道 澤 」 説 を 記述 する 。\",\n",
    "#     #    \"宇多 天皇 （ うだ てんのう 、 貞観 9 年 5 月 5 日 （ 867 年 6 月 10 日 ） - 承平 元年 7 月 19 日 （ 931 年 9 月 3 日 ） ） は 、 日本 の 第 59 代 天皇 （ 在位 ： 仁和 3 年 11 月 17 日 （ 887 年 12 月 5 日 ） - 寛平 9 年 7 月 3 日 （ 897 年 8 月 4 日 ） ） 。\",\n",
    "#     # \"\"\"僧肇 は 『 注 維摩 詰 経 』 で 、 魏 の 王弼 （ おうひつ ） など が 用い た “ 本末 ” の 思想 を 引用 し 、 “ 所以 迹 ” を “ 本 ” と 言い換え て 、 “ 本 ” を 菩薩 の 不可思議 な る 解脱 （ 悟り の 内容 ） と し 、 “ 迹 ” を 菩薩 が 衆生 を 教化 する ため に 示現 し た 方便 と い う 意味 で 使用 し た 。\"\"\"\n",
    "# ]\n",
    "\n",
    "en_list, ja_list = list(zip(*[enja.split(\" ||| \")[::-1] for enja in enja_lists]))\n",
    "en_list, ja_list = list(en_list), list(ja_list)\n",
    "# 260\n",
    "google_translate_ja_list = [\n",
    "    # \"Originally, it originated from the fact that Shinran, who inherited the teachings of his teacher Honen, put into practice the idea that Nembutsu is a way of salvation for people who have no choice but to deviate from the concept of an ordinary monk (a person who has severed ties with the world and become a monk to practice asceticism) and the norms of a Buddhist follower (lay person) living within society, and that he was the first monk to officially marry and have children.\",\n",
    "    # \"\"\"\"Sakuteiki\" is a book that describes how to create gardens with a shinden-zukuri style of architecture in mind, and describes the 'four gods = mountains, rivers, paths, and streams' theory as the ideal form of a garden.\"\"\",\n",
    "    # \"Emperor Uda (May 5, 867 (June 10, 867) - July 19, 931 (September 3, 931)) was the 59th Emperor of Japan (reigned November 17, 887 (December 5, 887) - July 3, 897 (August 4, 897)).\",\n",
    "    # \"\"\"In his Commentary on the Vimalakirti Sutra, Sengzhao quoted the idea of ​​\"main and secondary\" used by Wang Bi of Wei and others, and changed \"sojo\" to \"main,\" meaning the bodhisattva's mysterious liberation (the content of his enlightenment) and \"main\" to mean the expedient means that the bodhisattva revealed to educate all living beings.\"\"\"\n",
    "    # \"\"\"Pure Land Buddhism (Jodo Shinshu, shin-buddhism, pure land buddhism) is a sect of Buddhism in Japan, which was developed in the early Kamakura period by Shinran, a disciple of Honen, who inherited Honen's teachings (Jodo sect). It is a religious organization.\"\"\",\n",
    "    # \"\"\"Shinran placed particular value on the ``Buddhist Theory of Myriad Life Sutra'', calling it the ``Great Mystery of Life Sutra'' and the ``Great Sutra''.\"\"\",\n",
    "    \"\"\" \"\"\",\n",
    "]\n",
    "\n",
    "for en, ja, google_translate_ja, alignment_str in zip(en_list, ja_list, google_translate_ja_list, alignment_str_list):\n",
    "    enja_alignment = [[int(i) for i in single_alignment.split(\"-\")][::-1] for single_alignment in alignment_str.split()]\n",
    "    enja_alignment.sort()\n",
    "    print(\"translate the following to english\")\n",
    "    print(ja)\n",
    "    print(\"response\")\n",
    "    print(google_translate_ja)\n",
    "    print()\n",
    "    print()\n",
    "    print(\"give the word to word alignment of the following\")\n",
    "    print(en)\n",
    "    print(ja)\n",
    "    print(\"response\")\n",
    "    print([(en.split()[i], ja.split()[j]) for i,j in enja_alignment])\n",
    "    print()\n",
    "    print()\n",
    "    print(\"using the word alignment, and the following word index labels, produce a Pharaoh format word to word index mappings, where i-j represents a mapping between the source (English) word i and the target (Japanese) word j:\")\n",
    "    print((list(zip(range(len(ja)),ja.split()))),  (list(zip(range(len(en)),en.split()))))\n",
    "    print(\"response\")\n",
    "    for line, alignment in zip([(en.split()[i], ja.split()[j]) for i,j in enja_alignment], enja_alignment):\n",
    "        print(str(line), str(\"-\".join(str(a) for a in alignment)))\n",
    "    # print(\" \".join(\"-\".join(str(i) for i in single_alignment) for single_alignment in enja_alignment))\n",
    "    print(\"*\"*10)\n"
   ]
  },
  {
   "cell_type": "code",
   "execution_count": null,
   "metadata": {},
   "outputs": [],
   "source": [
    "\"\"\"\n",
    "provide a word to word (including punctuation) level alignment of these japanese and english phrases:\n",
    "そもそも は 、 一般 の 僧侶 と い う 概念 （ 世間 と の 縁 を 断 っ て 出家 し 修行 する 人々 ） や 世間 内 で 生活 する 仏教 徒 （ 在家 ） と し て の 規範 から はみ出 さ ざる を 得 な い 人々 を 救済 する の が 本願 念仏 で あ る と 、 師 法然 から 継承 し た 親鸞 が 、 それ を 実践 し 僧 と し て 初めて 公式 に 妻帯 し 子 を 設け た こと に 由来 する 。\n",
    "originally , shinran learned that helping those who cannot help but stray from the concept of a general monk ( who enters the priesthood and practices asceticism , renouncing the world ) and the norm of buddhists ( laity ) living in the world is hongan nenbutsu ( praying for the vows ) from his master honen , and became the first monk to openly get married and have a child .\n",
    "\n",
    "Then, using the word alignment, and the following word index labels, produce a Pharaoh format word to word index mappings output in the form of a python list of tuples [(0,1), (0,2), ...] where the first element in the tuple is source (Japanese) word and the second is from target (English) word:\n",
    "[(0, 'そもそも'), (1, 'は'), (2, '、'), (3, '一般'), (4, 'の'), (5, '僧侶'), (6, 'と'), (7, 'い'), (8, 'う'), (9, '概念'), (10, '（'), (11, '世間'), (12, 'と'), (13, 'の'), (14, '縁'), (15, 'を'), (16, '断'), (17, 'っ'), (18, 'て'), (19, '出家'), (20, 'し'), (21, '修行'), (22, 'する'), (23, '人々'), (24, '）'), (25, 'や'), (26, '世間'), (27, '内'), (28, 'で'), (29, '生活'), (30, 'する'), (31, '仏教'), (32, '徒'), (33, '（'), (34, '在家'), (35, '）'), (36, 'と'), (37, 'し'), (38, 'て'), (39, 'の'), (40, '規範'), (41, 'から'), (42, 'はみ出'), (43, 'さ'), (44, 'ざる'), (45, 'を'), (46, '得'), (47, 'な'), (48, 'い'), (49, '人々'), (50, 'を'), (51, '救済'), (52, 'する'), (53, 'の'), (54, 'が'), (55, '本願'), (56, '念仏'), (57, 'で'), (58, 'あ'), (59, 'る'), (60, 'と'), (61, '、'), (62, '師'), (63, '法然'), (64, 'から'), (65, '継承'), (66, 'し'), (67, 'た'), (68, '親鸞'), (69, 'が'), (70, '、'), (71, 'それ'), (72, 'を'), (73, '実践'), (74, 'し'), (75, '僧'), (76, 'と'), (77, 'し'), (78, 'て'), (79, '初めて'), (80, '公式'), (81, 'に'), (82, '妻帯'), (83, 'し'), (84, '子'), (85, 'を'), (86, '設け'), (87, 'た'), (88, 'こと'), (89, 'に'), (90, '由来'), (91, 'する'), (92, '。')] [(0, 'originally'), (1, ','), (2, 'shinran'), (3, 'learned'), (4, 'that'), (5, 'helping'), (6, 'those'), (7, 'who'), (8, 'cannot'), (9, 'help'), (10, 'but'), (11, 'stray'), (12, 'from'), (13, 'the'), (14, 'concept'), (15, 'of'), (16, 'a'), (17, 'general'), (18, 'monk'), (19, '('), (20, 'who'), (21, 'enters'), (22, 'the'), (23, 'priesthood'), (24, 'and'), (25, 'practices'), (26, 'asceticism'), (27, ','), (28, 'renouncing'), (29, 'the'), (30, 'world'), (31, ')'), (32, 'and'), (33, 'the'), (34, 'norm'), (35, 'of'), (36, 'buddhists'), (37, '('), (38, 'laity'), (39, ')'), (40, 'living'), (41, 'in'), (42, 'the'), (43, 'world'), (44, 'is'), (45, 'hongan'), (46, 'nenbutsu'), (47, '('), (48, 'praying'), (49, 'for'), (50, 'the'), (51, 'vows'), (52, ')'), (53, 'from'), (54, 'his'), (55, 'master'), (56, 'honen'), (57, ','), (58, 'and'), (59, 'became'), (60, 'the'), (61, 'first'), (62, 'monk'), (63, 'to'), (64, 'openly'), (65, 'get'), (66, 'married'), (67, 'and'), (68, 'have'), (69, 'a'), (70, 'child'), (71, '.')]\n",
    "Before answering, explain your reasoning step-by-step in <thinking> tags. Only the last well formatted list will be used as the final response, so if during the process of generation an error is noticed, simply explain the error and begin again\n",
    "\n",
    "\n",
    "\n",
    "\"\"\""
   ]
  },
  {
   "cell_type": "code",
   "execution_count": 1,
   "metadata": {},
   "outputs": [
    {
     "name": "stdout",
     "output_type": "stream",
     "text": [
      "0,2-0,1\n",
      "3,4-17\n",
      "5-18\n",
      "9-14\n",
      "10-19\n",
      "11-30\n",
      "16,18-28\n",
      "19,20-21,23\n",
      "21,22-25,26\n",
      "24-31\n",
      "25,40-32,43\n",
      "13-15\n",
      "18-24\n",
      "41,54-5,12\n",
      "55,61-44,52\n",
      "62-55\n",
      "63-56\n",
      "64-53\n",
      "65,67-3\n",
      "68-2\n",
      "71,74-58\n",
      "75,92-59,71\n",
      "0-0\n",
      "3-17\n",
      "5-18\n",
      "9-14\n",
      "10-19\n",
      "11-30\n",
      "16-28\n",
      "17-28\n",
      "18-28\n",
      "19-21\n",
      "19-22\n",
      "19-23\n",
      "21-25\n",
      "21-26\n",
      "23-20\n",
      "24-31\n",
      "26-43\n",
      "27-41\n",
      "29-40\n",
      "31-36\n",
      "32-36\n",
      "34-38\n",
      "40-34\n",
      "42-8\n",
      "43-8\n",
      "44-8\n",
      "45-9\n",
      "46-9\n",
      "47-9\n",
      "48-9\n",
      "49-6\n",
      "51-5\n",
      "55-45\n",
      "56-46\n",
      "62-55\n",
      "63-56\n",
      "65-3\n",
      "66-3\n",
      "67-3\n",
      "68-2\n",
      "75-62\n",
      "79-61\n",
      "80-64\n",
      "81-64\n",
      "82-65\n",
      "82-66\n",
      "84-70\n",
      "90-59\n",
      "91-59\n",
      "92-71\n"
     ]
    },
    {
     "data": {
      "text/plain": [
       "'0-0 17-3 18-5 14-9 19-10 30-11 28-16 28-17 28-18 21-19 22-19 23-19 25-21 26-21 20-23 31-24 43-26 41-27 40-29 36-31 36-32 38-34 34-40 8-42 8-43 8-44 9-45 9-46 9-47 9-48 6-49 5-51 45-55 46-56 55-62 56-63 3-65 3-66 3-67 2-68 62-75 61-79 64-80 64-81 65-82 66-82 70-84 59-90 59-91 71-92'"
      ]
     },
     "execution_count": 1,
     "metadata": {},
     "output_type": "execute_result"
    }
   ],
   "source": [
    "def get_enja_alignment_from_mannual_alignment(manual_alignment, is_jaen_manual=True):\n",
    "    alignments = []\n",
    "    for line in manual_alignment.split(\" \"):\n",
    "        print(line)\n",
    "        ja_indices, en_indices = line.split(\"-\") if is_jaen_manual else line.split(\"-\")[::-1]\n",
    "        ja_indices = [int(j) for j in ja_indices.split(\",\")]\n",
    "        en_indices = [int(j) for j in en_indices.split(\",\")]\n",
    "\n",
    "        for i in range(min(en_indices), max(en_indices)+1):\n",
    "            for j in range(min(ja_indices), max(ja_indices)+1):\n",
    "                alignments.append((str(i), str(j)))\n",
    "    return \" \".join(\"-\".join(pair) for pair in alignments)\n",
    "# get_enja_alignment_from_mannual_alignment(\"0-0 3,4,5,6,7-3,4,5,6 9,10,11,12,13-10,11,12 14,15,16,17-14,15,16 19,20-8 21-1 22,23,24,25-2\")\n",
    "get_enja_alignment_from_mannual_alignment(\"0,2-0,1 3,4-17 5-18 9-14 10-19 11-30 16,18-28 19,20-21,23 21,22-25,26 24-31 25,40-32,43 13-15 18-24 41,54-5,12 55,61-44,52 62-55 63-56 64-53 65,67-3 68-2 71,74-58 75,92-59,71\")\n",
    "get_enja_alignment_from_mannual_alignment(\"0-0 3-17 5-18 9-14 10-19 11-30 16-28 17-28 18-28 19-21 19-22 19-23 21-25 21-26 23-20 24-31 26-43 27-41 29-40 31-36 32-36 34-38 40-34 42-8 43-8 44-8 45-9 46-9 47-9 48-9 49-6 51-5 55-45 56-46 62-55 63-56 65-3 66-3 67-3 68-2 75-62 79-61 80-64 81-64 82-65 82-66 84-70 90-59 91-59 92-71\")\n"
   ]
  },
  {
   "cell_type": "code",
   "execution_count": 6,
   "metadata": {},
   "outputs": [
    {
     "data": {
      "text/plain": [
       "'0-0 1-1 16-3 17-3 16-4 18-5 14-9 19-10 29-11 30-11 21-19 22-19 23-19 24-20 25-21 26-21 25-22 26-22 31-24 42-26 43-26 41-27 40-28 40-29 40-30 36-31 36-32 37-33 38-34 39-35 34-40 12-41 11-42 11-43 11-44 11-45 9-46 8-47 8-48 6-49 7-49 5-51 5-52 45-55 46-56 54-62 55-62 56-63 3-65 3-66 3-67'"
      ]
     },
     "execution_count": 6,
     "metadata": {},
     "output_type": "execute_result"
    }
   ],
   "source": [
    "\" \".join(f\"{j}-{i}\" for i,j in [(0, 0), (1, 1), (3, 16), (3, 17), (4, 16), (5, 18), (9, 14), (10, 19), (11, 29), (11, 30), (19, 21), (19, 22), (19, 23), (20, 24), (21, 25), (21, 26), (22, 25), (22, 26), (24, 31), (26, 42), (26, 43), (27, 41), (28, 40), (29, 40), (30, 40), (31, 36), (32, 36), (33, 37), (34, 38), (35, 39), (40, 34), (41, 12), (42, 11), (43, 11), (44, 11), (45, 11), (46, 9), (47, 8), (48, 8), (49, 6), (49, 7), (51, 5), (52, 5), (55, 45), (56, 46), (62, 54), (62, 55), (63, 56), (65, 3), (66, 3), (67, 3)])"
   ]
  },
  {
   "cell_type": "code",
   "execution_count": null,
   "metadata": {},
   "outputs": [],
   "source": [
    "# [(0, 'そもそも'), (1, 'は'), (2, '、'), (3, '一般'), (4, 'の'), (5, '僧侶'), (6, 'と'), (7, 'い'), (8, 'う'), (9, '概念'), (10, '（'), (11, '世間'), (12, 'と'), (13, 'の'), (14, '縁'), (15, 'を'), (16, '断'), (17, 'っ'), (18, 'て'), (19, '出家'), (20, 'し'), (21, '修行'), (22, 'する'), (23, '人々'), (24, '）'), (25, 'や'), (26, '世間'), (27, '内'), (28, 'で'), (29, '生活'), (30, 'する'), (31, '仏教'), (32, '徒'), (33, '（'), (34, '在家'), (35, '）'), (36, 'と'), (37, 'し'), (38, 'て'), (39, 'の'), (40, '規範'), (41, 'から'), (42, 'はみ出'), (43, 'さ'), (44, 'ざる'), (45, 'を'), (46, '得'), (47, 'な'), (48, 'い'), (49, '人々'), (50, 'を'), (51, '救済'), (52, 'する'), (53, 'の'), (54, 'が'), (55, '本願'), (56, '念仏'), (57, 'で'), (58, 'あ'), (59, 'る'), (60, 'と'), (61, '、'), (62, '師'), (63, '法然'), (64, 'から'), (65, '継承'), (66, 'し'), (67, 'た'), (68, '親鸞'), (69, 'が'), (70, '、'), (71, 'それ'), (72, 'を'), (73, '実践'), (74, 'し'), (75, '僧'), (76, 'と'), (77, 'し'), (78, 'て'), (79, '初めて'), (80, '公式'), (81, 'に'), (82, '妻帯'), (83, 'し'), (84, '子'), (85, 'を'), (86, '設け'), (87, 'た'), (88, 'こと'), (89, 'に'), (90, '由来'), (91, 'する'), (92, '。')] \n",
    "# [(0, 'originally'), (1, ','), (2, 'shinran'), (3, 'learned'), (4, 'that'), (5, 'helping'), (6, 'those'), (7, 'who'), (8, 'cannot'), (9, 'help'), (10, 'but'), (11, 'stray'), (12, 'from'), (13, 'the'), (14, 'concept'), (15, 'of'), (16, 'a'), (17, 'general'), (18, 'monk'), (19, '('), (20, 'who'), (21, 'enters'), (22, 'the'), (23, 'priesthood'), (24, 'and'), (25, 'practices'), (26, 'asceticism'), (27, ','), (28, 'renouncing'), (29, 'the'), (30, 'world'), (31, ')'), (32, 'and'), (33, 'the'), (34, 'norm'), (35, 'of'), (36, 'buddhists'), (37, '('), (38, 'laity'), (39, ')'), (40, 'living'), (41, 'in'), (42, 'the'), (43, 'world'), (44, 'is'), (45, 'hongan'), (46, 'nenbutsu'), (47, '('), (48, 'praying'), (49, 'for'), (50, 'the'), (51, 'vows'), (52, ')'), (53, 'from'), (54, 'his'), (55, 'master'), (56, 'honen'), (57, ','), (58, 'and'), (59, 'became'), (60, 'the'), (61, 'first'), (62, 'monk'), (63, 'to'), (64, 'openly'), (65, 'get'), (66, 'married'), (67, 'and'), (68, 'have'), (69, 'a'), (70, 'child'), (71, '.')]\n",
    "\"0,2-0,1 3,24-13,31 25,40-32,43 41,54-5,12 55,61-44,52 62,70-53,57 62,70-2,3 71,74-58 75,92-59,71\"\n",
    "# now with word level breakdown for 62,70-53,57 62,70-2,3\n",
    "\"0,2-0,1 3,24-13,31 25,40-32,43 41,54-5,12 55,61-44,52 62-55 63-56 64-53 65,67-3 68-2 71,74-58 75,92-59,71\"\n",
    "\n",
    "# now with breakdown from 3,24-13,31\n",
    "\"0,2-0,1 3-17 5-18 9-14 10,11-30 19,20-21,23 21,22-25,26 25,40-32,43 41,54-5,12 55,61-44,52 62-55 63-56 64-53 65,67-3 68-2 71,74-58 75,92-59,71\"\n",
    "# alternative breakdown of 3,24-13,31\n",
    "\"0,2-0,1 3,4-17 5-18 9-14 10-19 11-30 16,18-28 19,20-21,23 21,22-25,26 24-31 25,40-32,43 13-15 18-24 41,54-5,12 55,61-44,52 62-55 63-56 64-53 65,67-3 68-2 71,74-58 75,92-59,71\"\n",
    "\n",
    "\n",
    "# breakdown 25,40-32,43\n",
    "\"0,2-0,1 3-17 5-18 9-14 10,11-30 19,20-21,23 21,22-25,26 25-32 26,27-41,43 28-41 29,30-40 31,32-36 33,34-38 40-34 41,54-5,12 55,61-44,52 62-55 63-56 64-53 65,67-3 68-2 71,74-58 75,92-59,71\"\n",
    "\n",
    "# 41,54-5,12\n",
    "\"0,2-0,1 3-17 5-18 9-14 10,11-30 19,20-21,23 21,22-25,26 25-32 26,27-41,43 28-41 29,30-40 31,32-36 33,34-38 40-34 41-12 42,43-8,11 44,48-8,10 51,52-5 55,61-44,52 62-55 63-56 64-53 65,67-3 68-2 71,74-58 75,92-59,71\"\n",
    "\n",
    "# 55,61-44,52\n",
    "\"0,2-0,1 3-17 5-18 9-14 10,11-30 19,20-21,23 21,22-25,26 25-32 26,27-41,43 28-41 29,30-40 31,32-36 33,34-38 40-34 41-12 42,43-8,11 44,48-8,10 51,52-5 55-45 56-46 57,59-44 62-55 63-56 64-53 65,67-3 68-2 71,74-58 75,92-59,71\"\n",
    "\n",
    "#71,74-58\n",
    "\"0,2-0,1 3-17 5-18 9-14 10,11-30 19,20-21,23 21,22-25,26 25-32 26,27-41,43 28-41 29,30-40 31,32-36 33,34-38 40-34 41-12 42,43-8,11 44,48-8,10 51,52-5 55-45 56-46 57,59-44 62-55 63-56 64-53 65,67-3 68-2 75,92-59,71\"\n",
    "\n",
    "#75,92-59,71\n",
    "\"0,2-0,1 3-17 5-18 9-14 10,11-30 19,20-21,23 21,22-25,26 25-32 26,27-41,43 28-41 29,30-40 31,32-36 33,34-38 40-34 41-12 42,43-8,11 44,48-8,10 51,52-5 55-45 56-46 57,59-44 62-55 63-56 64-53 65,67-3 68-2 75-62 79-61 82,83-65,66 84-70 86,87-68\"\n",
    "\n",
    "\n",
    "\"\"\"\n",
    "\n",
    "一般の      | general  3,4-17\n",
    "僧侶        | monk  5-18\n",
    "という      | called/referred to as \n",
    "概念        | concept 9-14\n",
    "（         | ( 10-19\n",
    "世間        | world 11-30\n",
    "との        | with\n",
    "縁          | ties/connections\n",
    "を          | [object marker]\n",
    "断って      | cut off/renounce    16,18-28\n",
    "出家し      | enter the priesthood   19,20-21,23\n",
    "修行する    | practice asceticism  21,22-25,26\n",
    "人々        | people\n",
    "）         | )   24-31\n",
    "the         | [no direct equivalent]\n",
    "concept     | 概念\n",
    "of          | [implied in the の particle]  13-15\n",
    "a           | [no direct equivalent]\n",
    "general     | 一般の\n",
    "monk        | 僧侶\n",
    "(           | （\n",
    "who         | [implied in the relative clause structure]\n",
    "enters      | 出家し\n",
    "the         | [no direct equivalent]\n",
    "priesthood  | [part of 出家し]\n",
    "and         | [implied in the て-form of verbs] 18-24\n",
    "practices   | 修行する\n",
    "asceticism  | [part of 修行する]\n",
    ",           | [no direct equivalent]\n",
    "renouncing  | 断って\n",
    "the         | [no direct equivalent]\n",
    "world       | 世間\n",
    ")           | ）\n",
    "\n",
    "一般 (ippan) - general      3-17\n",
    "の (no) - possessive particle       \n",
    "僧侶 (sōryo) - monk         5-18\n",
    "という (to iu) - called/known as        \n",
    "概念 (gainen) - concept     9-14\n",
    "（世間 (seken) - world  10,11-30\n",
    "との (to no) - with's  \n",
    "縁 (en) - ties\n",
    "を (wo) - object marker\n",
    "断って (tatte) - cutting off\n",
    "出家し (shukke shi) - entering priesthood 19,20-21,23\n",
    "修行する (shugyō suru) - practice asceticism  21,22-25,26\n",
    "人々 (hitobito) - people） \n",
    "\n",
    "や世間内で生活する仏教徒（在家）としての規範\n",
    "や (ya) - and      25-32\n",
    "世間内 (sekenai) - in the world  26,27-41,43\n",
    "で (de) - in       28-41\n",
    "生活する (seikatsu suru) - living    29,30-40\n",
    "仏教徒 (bukkyōto) - Buddhists      31,32-36\n",
    "（在家 (zaike) - laity）    33,34-38\n",
    "としての (toshite no) - as    \n",
    "規範 (kihan) - norm     40-34\n",
    "\n",
    "からはみ出さざるを得ない人々を救済するのが\n",
    "から (kara) - from       41-12\n",
    "はみ出さ (hamidasaza) - cannot help but stray     42,43-8,11\n",
    "ざるを得ない (zaru wo enai) - cannot help but  44,48-8,10\n",
    "人々 (hitobito) - people\n",
    "を (wo) - object marker\n",
    "救済する (kyūsai suru) - save/help  51,52-5\n",
    "のが (no ga) - that which is        \n",
    "\n",
    "本願念仏であると、\n",
    "本願 (hongan) - primal vow     55-45\n",
    "念仏 (nenbutsu) - recitation of Buddha's name  56-46\n",
    "である (de aru) - is 57,59-44\n",
    "と (to) - quotative particle\n",
    "\n",
    "それを実践し\n",
    "それ (sore) - that \n",
    "を (wo) - object marker\n",
    "実践し (jissen shi) - put into practice\n",
    "\n",
    "僧として初めて公式に妻帯し子を設けたことに由来する。\n",
    "僧 (sō) - monk   75-62\n",
    "として (toshite) - as  \n",
    "初めて (hajimete) - for the first time  79-61\n",
    "公式に (kōshiki ni) - officially     ----this could be openly??\n",
    "妻帯し (saitai shi) - get married 82,83-65,66\n",
    "子 (ko) - child    84-70\n",
    "を (wo) - object marker\n",
    "設けた (mouketa) - have/establish      86,87-68\n",
    "ことに (koto ni) - to the fact that\n",
    "由来する (yurai suru) - originate from\n",
    "\n",
    "\n",
    "\"\"\""
   ]
  },
  {
   "cell_type": "code",
   "execution_count": 3,
   "metadata": {},
   "outputs": [
    {
     "name": "stdout",
     "output_type": "stream",
     "text": [
      "[TextBlock(text=\"<thinking>\\n1. I'll start by aligning the words and phrases that have clear correspondences:\\n   - そもそも (0) -> originally (0)\\n   - 一般の僧侶 (3-5) -> a general monk (16-18)\\n   - 世間 (11) -> the world (29-30)\\n   - 仏教徒 (31-32) -> buddhists (36)\\n   - 在家 (34) -> laity (38)\\n   - 本願念仏 (55-56) -> hongan nenbutsu (45-46)\\n   - 師法然 (62-63) -> his master honen (54-56)\\n   - 親鸞 (68) -> shinran (2)\\n   - 僧 (75) -> monk (62)\\n   - 妻帯し (82) -> get married (65-66)\\n   - 子を設けた (84-86) -> have a child (68-70)\\n\\n2. Next, I'll align the structural elements and punctuation:\\n   - は (1) -> , (1) (marking the topic)\\n   - （ (10) -> ( (19)\\n   - ） (24) -> ) (31)\\n   - （ (33) -> ( (37)\\n   - ） (35) -> ) (39)\\n   - 。 (92) -> . (71)\\n\\n3. Now, I'll align the phrases and concepts that are translated more freely:\\n   - 概念 (9) -> concept (14)\\n   - 出家し修行する (19-22) -> enters the priesthood and practices asceticism (21-26)\\n   - 世間内で生活する (26-30) -> living in the world (40-43)\\n   - 規範からはみ出さざるを得ない人々 (40-49) -> those who cannot help but stray from ... the norm (6-12, 33-34)\\n   - 救済する (51-52) -> helping (5)\\n   - 継承した (65-67) -> learned (3)\\n   - 初めて公式に (79-81) -> the first ... to openly (60-61, 64)\\n\\n4. Finally, I'll align any remaining words or phrases that have some correspondence:\\n   - それを実践し (71-74) -> became (59) (loosely corresponding to putting into practice)\\n\\n5. Some words in the Japanese text don't have direct correspondences in the English translation, such as という (6-8), や (25), and several particles and grammatical elements. These will be left unaligned.\\n\\n6. Some words in the English translation are added for clarity or natural phrasing and don't have direct correspondences in the Japanese text. These will also be left unaligned.\\n\\nNow, I'll create the alignment list based on this analysis.\\n</thinking>\\n\\n[(0, 0), (1, 1), (3, 16), (3, 17), (4, 16), (5, 18), (9, 14), (10, 19), (11, 29), (11, 30), (19, 21), (19, 22), (19, 23), (20, 24), (21, 25), (21, 26), (22, 25), (22, 26), (24, 31), (26, 42), (26, 43), (27, 41), (28, 40), (29, 40), (30, 40), (31, 36), (32, 36), (33, 37), (34, 38), (35, 39), (40, 34), (41, 12), (42, 11), (43, 11), (44, 11), (45, 11), (46, 9), (47, 8), (48, 8), (49, 6), (49, 7), (51, 5), (52, 5), (55, 45), (56, 46), (62, 54), (62, 55), (63, 56), (65, 3), (66, 3), (67, 3), (68\", type='text')]\n"
     ]
    }
   ],
   "source": [
    "import anthropic\n",
    "from dotenv import load_dotenv\n",
    "load_dotenv()\n",
    "\n",
    "client = anthropic.Anthropic(\n",
    "    # defaults to os.environ.get(\"ANTHROPIC_API_KEY\")\n",
    ")\n",
    "\n",
    "message = client.messages.create(\n",
    "    model=\"claude-3-5-sonnet-20240620\",\n",
    "    max_tokens=2000,\n",
    "    temperature=0,\n",
    "    messages=[\n",
    "        {\n",
    "            \"role\": \"user\",\n",
    "            \"content\": [\n",
    "                {\n",
    "                    \"type\": \"text\",\n",
    "                    \"text\": \"\"\"provide a word to word (including punctuation) level alignment of these japanese and english phrases:\n",
    "そもそも は 、 一般 の 僧侶 と い う 概念 （ 世間 と の 縁 を 断 っ て 出家 し 修行 する 人々 ） や 世間 内 で 生活 する 仏教 徒 （ 在家 ） と し て の 規範 から はみ出 さ ざる を 得 な い 人々 を 救済 する の が 本願 念仏 で あ る と 、 師 法然 から 継承 し た 親鸞 が 、 それ を 実践 し 僧 と し て 初めて 公式 に 妻帯 し 子 を 設け た こと に 由来 する 。\n",
    "originally , shinran learned that helping those who cannot help but stray from the concept of a general monk ( who enters the priesthood and practices asceticism , renouncing the world ) and the norm of buddhists ( laity ) living in the world is hongan nenbutsu ( praying for the vows ) from his master honen , and became the first monk to openly get married and have a child .\n",
    "\n",
    "Then, using the word alignment, and the following word index labels, produce a Pharaoh format word to word index mappings output in the form of a python list of tuples [(0,1), (0,2), ...] where the first element in the tuple is source (Japanese) word and the second is from target (English) word:\n",
    "[(0, 'そもそも'), (1, 'は'), (2, '、'), (3, '一般'), (4, 'の'), (5, '僧侶'), (6, 'と'), (7, 'い'), (8, 'う'), (9, '概念'), (10, '（'), (11, '世間'), (12, 'と'), (13, 'の'), (14, '縁'), (15, 'を'), (16, '断'), (17, 'っ'), (18, 'て'), (19, '出家'), (20, 'し'), (21, '修行'), (22, 'する'), (23, '人々'), (24, '）'), (25, 'や'), (26, '世間'), (27, '内'), (28, 'で'), (29, '生活'), (30, 'する'), (31, '仏教'), (32, '徒'), (33, '（'), (34, '在家'), (35, '）'), (36, 'と'), (37, 'し'), (38, 'て'), (39, 'の'), (40, '規範'), (41, 'から'), (42, 'はみ出'), (43, 'さ'), (44, 'ざる'), (45, 'を'), (46, '得'), (47, 'な'), (48, 'い'), (49, '人々'), (50, 'を'), (51, '救済'), (52, 'する'), (53, 'の'), (54, 'が'), (55, '本願'), (56, '念仏'), (57, 'で'), (58, 'あ'), (59, 'る'), (60, 'と'), (61, '、'), (62, '師'), (63, '法然'), (64, 'から'), (65, '継承'), (66, 'し'), (67, 'た'), (68, '親鸞'), (69, 'が'), (70, '、'), (71, 'それ'), (72, 'を'), (73, '実践'), (74, 'し'), (75, '僧'), (76, 'と'), (77, 'し'), (78, 'て'), (79, '初めて'), (80, '公式'), (81, 'に'), (82, '妻帯'), (83, 'し'), (84, '子'), (85, 'を'), (86, '設け'), (87, 'た'), (88, 'こと'), (89, 'に'), (90, '由来'), (91, 'する'), (92, '。')] [(0, 'originally'), (1, ','), (2, 'shinran'), (3, 'learned'), (4, 'that'), (5, 'helping'), (6, 'those'), (7, 'who'), (8, 'cannot'), (9, 'help'), (10, 'but'), (11, 'stray'), (12, 'from'), (13, 'the'), (14, 'concept'), (15, 'of'), (16, 'a'), (17, 'general'), (18, 'monk'), (19, '('), (20, 'who'), (21, 'enters'), (22, 'the'), (23, 'priesthood'), (24, 'and'), (25, 'practices'), (26, 'asceticism'), (27, ','), (28, 'renouncing'), (29, 'the'), (30, 'world'), (31, ')'), (32, 'and'), (33, 'the'), (34, 'norm'), (35, 'of'), (36, 'buddhists'), (37, '('), (38, 'laity'), (39, ')'), (40, 'living'), (41, 'in'), (42, 'the'), (43, 'world'), (44, 'is'), (45, 'hongan'), (46, 'nenbutsu'), (47, '('), (48, 'praying'), (49, 'for'), (50, 'the'), (51, 'vows'), (52, ')'), (53, 'from'), (54, 'his'), (55, 'master'), (56, 'honen'), (57, ','), (58, 'and'), (59, 'became'), (60, 'the'), (61, 'first'), (62, 'monk'), (63, 'to'), (64, 'openly'), (65, 'get'), (66, 'married'), (67, 'and'), (68, 'have'), (69, 'a'), (70, 'child'), (71, '.')]\n",
    "Before answering, explain your reasoning step-by-step in <thinking> tags. Only the last well formatted list will be used as the final response, so if during the process of generation an error is noticed, simply explain the error and begin again\"\"\"\n",
    "                }\n",
    "            ]\n",
    "        }\n",
    "    ]\n",
    ")\n",
    "\n",
    "print(message.content)"
   ]
  },
  {
   "cell_type": "code",
   "execution_count": null,
   "metadata": {},
   "outputs": [],
   "source": [
    "\" \".join(f\"{j}-{i}\" for i,j in )"
   ]
  },
  {
   "cell_type": "code",
   "execution_count": 26,
   "metadata": {},
   "outputs": [
    {
     "data": {
      "text/plain": [
       "[(0, 0),\n",
       " (1, 1),\n",
       " (3, 16),\n",
       " (3, 17),\n",
       " (4, 16),\n",
       " (5, 18),\n",
       " (9, 14),\n",
       " (10, 19),\n",
       " (11, 29),\n",
       " (11, 30),\n",
       " (19, 21),\n",
       " (19, 22),\n",
       " (19, 23),\n",
       " (20, 24),\n",
       " (21, 25),\n",
       " (21, 26),\n",
       " (22, 25),\n",
       " (22, 26),\n",
       " (24, 31),\n",
       " (26, 42),\n",
       " (26, 43),\n",
       " (27, 41),\n",
       " (28, 40),\n",
       " (29, 40),\n",
       " (30, 40),\n",
       " (31, 36),\n",
       " (32, 36),\n",
       " (33, 37),\n",
       " (34, 38),\n",
       " (35, 39),\n",
       " (40, 34),\n",
       " (41, 12),\n",
       " (42, 11),\n",
       " (43, 11),\n",
       " (44, 11),\n",
       " (45, 11),\n",
       " (46, 9),\n",
       " (47, 8),\n",
       " (48, 8),\n",
       " (49, 6),\n",
       " (49, 7),\n",
       " (51, 5),\n",
       " (52, 5),\n",
       " (55, 45),\n",
       " (56, 46),\n",
       " (62, 54),\n",
       " (62, 55),\n",
       " (63, 56),\n",
       " (65, 3),\n",
       " (66, 3),\n",
       " (67, 3)]"
      ]
     },
     "execution_count": 26,
     "metadata": {},
     "output_type": "execute_result"
    }
   ],
   "source": [
    "import re\n",
    "def parse_last_jaen_python_list_from_string(s):\n",
    "    ''' returns the last readable python list in the string '''\n",
    "    str_matches = re.findall(r\"\\[.*\\]\", s)\n",
    "    for str_match in str_matches[::-1]:\n",
    "        try:\n",
    "            list_match = []\n",
    "            str_match = str_match[2:-2]\n",
    "            for str_pair in str_match.split(\"), (\"):\n",
    "                i, j = [int(a) for a in str_pair.split(\", \")]\n",
    "                list_match.append((i, j))\n",
    "            return list_match\n",
    "        except:\n",
    "            continue\n",
    "    return []\n",
    "parse_last_jaen_python_list_from_string(message.content[0].text.replace(\", (68\", \"]\"))"
   ]
  },
  {
   "cell_type": "code",
   "execution_count": 12,
   "metadata": {},
   "outputs": [
    {
     "name": "stdout",
     "output_type": "stream",
     "text": [
      "<thinking>\n",
      "1. I'll start by aligning the words and phrases that have clear correspondences:\n",
      "   - そもそも (0) -> originally (0)\n",
      "   - 一般の僧侶 (3-5) -> a general monk (16-18)\n",
      "   - 世間 (11) -> the world (29-30)\n",
      "   - 仏教徒 (31-32) -> buddhists (36)\n",
      "   - 在家 (34) -> laity (38)\n",
      "   - 本願念仏 (55-56) -> hongan nenbutsu (45-46)\n",
      "   - 師法然 (62-63) -> his master honen (54-56)\n",
      "   - 親鸞 (68) -> shinran (2)\n",
      "   - 僧 (75) -> monk (62)\n",
      "   - 妻帯し (82) -> get married (65-66)\n",
      "   - 子を設けた (84-86) -> have a child (68-70)\n",
      "\n",
      "2. Next, I'll align the structural elements and punctuation:\n",
      "   - は (1) -> , (1) (marking the topic)\n",
      "   - （ (10) -> ( (19)\n",
      "   - ） (24) -> ) (31)\n",
      "   - （ (33) -> ( (37)\n",
      "   - ） (35) -> ) (39)\n",
      "   - 。 (92) -> . (71)\n",
      "\n",
      "3. Now, I'll align the phrases and concepts that are translated more freely:\n",
      "   - 概念 (9) -> concept (14)\n",
      "   - 出家し修行する (19-22) -> enters the priesthood and practices asceticism (21-26)\n",
      "   - 世間内で生活する (26-30) -> living in the world (40-43)\n",
      "   - 規範からはみ出さざるを得ない人々 (40-49) -> those who cannot help but stray from ... the norm (6-12, 33-34)\n",
      "   - 救済する (51-52) -> helping (5)\n",
      "   - 継承した (65-67) -> learned (3)\n",
      "   - 初めて公式に (79-81) -> the first ... to openly (60-61, 64)\n",
      "\n",
      "4. Finally, I'll align any remaining words or phrases that have some correspondence:\n",
      "   - それを実践し (71-74) -> became (59) (loosely corresponding to putting into practice)\n",
      "\n",
      "5. Some words in the Japanese text don't have direct correspondences in the English translation, such as という (6-8), や (25), and several particles and grammatical elements. These will be left unaligned.\n",
      "\n",
      "6. Some words in the English translation are added for clarity or natural phrasing and don't have direct correspondences in the Japanese text. These will also be left unaligned.\n",
      "\n",
      "Now, I'll create the alignment list based on this analysis.\n",
      "</thinking>\n",
      "\n",
      "[(0, 0), (1, 1), (3, 16), (3, 17), (4, 16), (5, 18), (9, 14), (10, 19), (11, 29), (11, 30), (19, 21), (19, 22), (19, 23), (20, 24), (21, 25), (21, 26), (22, 25), (22, 26), (24, 31), (26, 42), (26, 43), (27, 41), (28, 40), (29, 40), (30, 40), (31, 36), (32, 36), (33, 37), (34, 38), (35, 39), (40, 34), (41, 12), (42, 11), (43, 11), (44, 11), (45, 11), (46, 9), (47, 8), (48, 8), (49, 6), (49, 7), (51, 5), (52, 5), (55, 45), (56, 46), (62, 54), (62, 55), (63, 56), (65, 3), (66, 3), (67, 3)]\n"
     ]
    }
   ],
   "source": [
    "print(message.content[0].text.replace(\", (68\", \"]\"))"
   ]
  },
  {
   "cell_type": "code",
   "execution_count": 18,
   "metadata": {},
   "outputs": [
    {
     "name": "stdout",
     "output_type": "stream",
     "text": [
      "Matched!\n",
      "(0, 0), (1, 0), (2, 1), (91, 68), (92, 71)\n"
     ]
    }
   ],
   "source": [
    "import re\n",
    "\n",
    "regex_pattern = r'\\[\\s*(\\(\\s*\\d+\\s*,\\s*\\d+\\s*\\)(?:\\s*,\\s*\\(\\s*\\d+\\s*,\\s*\\d+\\s*\\))*)\\s*\\]'\n",
    "\n",
    "# Example usage:\n",
    "test_string = \"[(0, 0), (1, 0), (2, 1), (91, 68), (92, 71)]\"\n",
    "match = re.match(regex_pattern, test_string)\n",
    "\n",
    "if match:\n",
    "    print(\"Matched!\")\n",
    "    print(match.group(1))  # This will print the content inside the square brackets\n",
    "else:\n",
    "    print(\"No match.\")"
   ]
  },
  {
   "cell_type": "code",
   "execution_count": 5,
   "metadata": {},
   "outputs": [
    {
     "name": "stdout",
     "output_type": "stream",
     "text": [
      "[(0, 0), (1, 1), (3, 16), (3, 17), (4, 16), (5, 18), (9, 14), (10, 19), (11, 29), (11, 30), (19, 21), (19, 22), (19, 23), (20, 24), (21, 25), (21, 26), (22, 25), (22, 26), (24, 31), (26, 42), (26, 43), (27, 41), (28, 40), (29, 40), (30, 40), (31, 36), (32, 36), (33, 37), (34, 38), (35, 39), (40, 34), (41, 12), (42, 11), (43, 11), (44, 11), (45, 11), (46, 9), (47, 8), (48, 8), (49, 6), (49, 7), (51, 5), (52, 5), (55, 45), (56, 46), (62, 54), (62, 55), (63, 56), (65, 3), (66, 3), (67, 3), (68\n"
     ]
    }
   ],
   "source": [
    "print(message.content[0].text.split(\"\\n\")[-1])"
   ]
  },
  {
   "cell_type": "code",
   "execution_count": null,
   "metadata": {},
   "outputs": [],
   "source": [
    "from openai import OpenAI\n",
    "client = OpenAI()\n",
    "\n",
    "response = client.chat.completions.create(\n",
    "  model=\"gpt-4o\",\n",
    "  messages=[\n",
    "    \n",
    "  ],\n",
    "  temperature=1,\n",
    "  max_tokens=2048,\n",
    "  top_p=1,\n",
    "  frequency_penalty=0,\n",
    "  presence_penalty=0,\n",
    "  response_format={\n",
    "    \"type\": \"text\"\n",
    "  }\n",
    ")"
   ]
  },
  {
   "cell_type": "code",
   "execution_count": null,
   "metadata": {},
   "outputs": [],
   "source": [
    "\"0-1 1-0 2-2 3-16 3-17 4-18 4-19 5-5 6-14 6-15 7-21 8-31 8-32 9-33 9-34 10-35 11-29 11-30 12-36 13-37 14-41 15-42 15-43 16-39 16-40 17-44 19-46 20-47 21-46 22-47 23-58 23-59 24-60 24-61 25-62 26-56 26-57 27-63 28-74 28-75 29-76 29-77 30-78 31-72 31-73 32-80\"\n",
    " "
   ]
  },
  {
   "cell_type": "code",
   "execution_count": 33,
   "metadata": {},
   "outputs": [
    {
     "name": "stdout",
     "output_type": "stream",
     "text": [
      "1-3 0-1 1-0 3-16 3-17 4-18 4-19 5-5 6-14 6-15 7-21 8-31 8-32 9-33 9-34 10-5 11-29 11-30 13-20 14-41 15-42 15-43 16-39 16-40 17-1 18-2 19-37 20-46 21-46 22-47 23-58 23-59 24-11 24-12 25-2 26-56 26-57 27-21 28-74 28-75 29-76 29-77 30-2 31-72 31-73 32-80\n"
     ]
    }
   ],
   "source": [
    "en = \"emperor uda ( june 14 , 867 - september 8 , 931 ) , the fifty-ninth japanese emperor , was in power from december 9 , 887 to august 8 , 897 .\"\n",
    "ja = \"宇多 天皇 （ うだ てんのう 、 貞観 9 年 5 月 5 日 （ 867 年 6 月 10 日 ） - 承平 元年 7 月 19 日 （ 931 年 9 月 3 日 ） ） は 、 日本 の 第 59 代 天皇 （ 在位 ： 仁和 3 年 11 月 17 日 （ 887 年 12 月 5 日 ） - 寛平 9 年 7 月 3 日 （ 897 年 8 月 4 日 ） ） 。\"\n",
    "# en_to_ja_str_mapping = [line.split(\"\\t\") for line in \"\"\"emperor uda\t宇多 天皇\n",
    "# ( june 14 , 867\t貞観 9 年 5 月 5 日 （ 867 年 6 月 10 日\n",
    "# - september 8 , 931\t- 承平 元年 7 月 19 日 （ 931 年 9 月 3 日 ）\n",
    "# )\t）\n",
    "# the fifty-ninth japanese emperor\t第 59 代 天皇\n",
    "# ,\t、\n",
    "# was in power\t（ 在位 ：\n",
    "# from december 9 , 887\t仁和 3 年 11 月 17 日 （ 887 年 12 月 5 日 ）\n",
    "# to august 8 , 897\t- 寛平 9 年 7 月 3 日 （ 897 年 8 月 4 日 ）\"\"\".split(\"\\n\")]\n",
    "en_to_ja_str_mapping = \\\n",
    "    [('emperor', '天皇'),\n",
    "     ('uda', '宇多'),\n",
    "     ('june', '6 月'),\n",
    "     ('14', '10 日'),\n",
    "     (',', '、'),\n",
    "     ('867', '867 年'),\n",
    "     ('-', '-'),\n",
    "     ('september', '9 月'),\n",
    "     ('8', '3 日'),\n",
    "     (',', '、'),\n",
    "     ('931', '931 年'),\n",
    "     (',', '）'),\n",
    "     ('the', '第'),\n",
    "     ('fifty-ninth', '59 代'),\n",
    "     ('japanese', '日本 の'),\n",
    "     ('emperor', '天皇'),\n",
    "     (',', '（'),\n",
    "     ('was', 'は'),\n",
    "     ('in', '在位'),\n",
    "     ('power', '在位'),\n",
    "     ('from', '：'),\n",
    "     ('december', '12 月'),\n",
    "     ('9', '5 日'),\n",
    "     (',', '（'),\n",
    "     ('887', '887 年'),\n",
    "     ('to', '-'),\n",
    "     ('august', '8 月'),\n",
    "     ('8', '4 日'),\n",
    "     (',', '（'),\n",
    "     ('897', '897 年'),\n",
    "     ('.', '。')]\n",
    "enja_alignment = [(1,3)]\n",
    "def find_sub_list_start_index(list_to_search, sub_list, start_search=0):\n",
    "    curr_index = start_search\n",
    "    while curr_index + len(sub_list) <= len(list_to_search):\n",
    "        if all([list_to_search[curr_index+i] == sub_list[i] for i in range(len(sub_list))]):\n",
    "            return curr_index\n",
    "        curr_index += 1\n",
    "    return -1\n",
    "\n",
    "index_to_continue_search = 0\n",
    "\n",
    "for en_line, ja_line in en_to_ja_str_mapping:\n",
    "    index_of_en_found = find_sub_list_start_index(en.split(\" \"), en_line.split(\" \"), index_to_continue_search)\n",
    "    index_of_ja_found = find_sub_list_start_index(ja.split(\" \"), ja_line.split(\" \"))\n",
    "    if index_of_en_found == -1:\n",
    "        print(f\"ERROR no mapping for {en_line.split(' ')} found in {en.split(' ')}\")\n",
    "        continue\n",
    "    index_to_continue_search = index_of_en_found + len(en_line.split(' '))\n",
    "    if index_of_ja_found == -1:\n",
    "        print(f\"ERROR no mapping for {ja_line.split(' ')} found in {ja.split(' ')}\")\n",
    "        continue\n",
    "\n",
    "    for i in range(len(en_line.split(' '))):\n",
    "        for j in range(len(ja_line.split(' '))):\n",
    "            enja_alignment.append((index_of_en_found+i, index_of_ja_found+j))\n",
    "\n",
    "print(\" \".join(\"-\".join(str(i) for i in single_alignment) for single_alignment in enja_alignment))"
   ]
  },
  {
   "cell_type": "code",
   "execution_count": null,
   "metadata": {},
   "outputs": [],
   "source": [
    "\"0-1 1-0 1-3 3-16 3-17 4-18 6-14 7-21 8-31 8-32 9-33 11-29 15-41 15-42 15-43 16-39 16-40 17-44 19-37 20-46 21-46 23-58 23-59 24-60 26-56 27-63 28-74 28-75 29-76 31-72 32-80\"\n",
    "\n",
    "\"0-1 1-0 1-3 3-16 3-17 4-18 6-14 7-21 8-31 8-32 9-33 11-29 15-41 15-42 15-43 16-39 16-40 17-44 19-37 20-46 21-46 23-58 23-59 24-60 26-56 27-63 28-74 28-75 29-76 31-72 32-80\"\n",
    "\"0-1 1-0 1-3 3-16 3-17 4-18 6-14 7-21 8-31 8-32 9-33 11-29 14-41 15-42 15-43 16-39 16-40 17-44 19-37 20-46 21-46 23-58 23-59 24-60 26-56 27-63 28-74 28-75 29-76 31-72 32-80\"\n",
    "\"0-1 1-0 1-3 3-17 4-18 5-5 6-14 7-21 8-32 9-33 10-38 11-29 13-36 14-41 15-42 15-43 16-39 16-40 17-44 18-45 19-37 20-46 21-46 22-47 23-59 24-60 25-55 26-56 27-63 28-75 29-76 30-71 31-72 32-80\"\n",
    "\"0-1 1-0 2-2 3-16 3-17 4-18 5-13 6-14 7-21 8-31 8-32 9-33 10-28 11-29 12-36 13-38 15-42 15-43 16-39 16-40 17-44 18-38 19-37 20-46 21-46 22-47 23-58 23-59 24-60 25-55 26-56 27-63 28-74 28-75 29-76 30-71 31-72 32-80\"\n",
    "\n",
    "\"0-1 1-0 2-2 3-16 3-17 4-18 4-19 6-14 6-15 7-21 8-31 8-32 9-33 9-34 11-29 11-30 12-35 13-37 14-41 15-42 16-39 16-40 17-44 19-46 20-46 21-46 23-58 23-59 24-60 24-61 26-56 26-57 27-63 28-74 28-75 29-76 29-77 31-72 31-73 32-80\"\n",
    "\"0-1 1-0 2-2 3-16 3-17 4-18 4-19 6-14 6-15 7-21 8-31 8-32 11-29 11-30 12-35 12-36 13-37 14-41 15-42 16-39 16-40 17-44 19-46 20-46 21-46 22-47 23-58 23-59 24-60 24-61 26-56 26-57 27-63 28-74 28-75 29-76 29-77 31-72 31-73 32-80\"\n",
    "\"0-1 1-0 2-2 3-16 3-17 4-18 4-19 5-5 6-14 6-15 7-21 8-31 8-32 9-33 9-34 10-38 11-29 11-30 12-35 12-36 13-37 14-41 15-42 16-39 16-40 17-44 18-45 19-46 20-46 21-46 22-47 23-58 23-59 24-60 24-61 25-38 26-56 26-57 27-63 28-74 28-75 29-76 29-77 30-38 31-72 31-73 32-80\""
   ]
  },
  {
   "cell_type": "code",
   "execution_count": null,
   "metadata": {},
   "outputs": [],
   "source": []
  },
  {
   "cell_type": "code",
   "execution_count": 26,
   "metadata": {},
   "outputs": [
    {
     "data": {
      "text/plain": [
       "True"
      ]
     },
     "execution_count": 26,
     "metadata": {},
     "output_type": "execute_result"
    }
   ],
   "source": [
    "all([True])"
   ]
  },
  {
   "cell_type": "code",
   "execution_count": 5,
   "metadata": {},
   "outputs": [
    {
     "ename": "ValueError",
     "evalue": "['emperor', 'uda'] is not in list",
     "output_type": "error",
     "traceback": [
      "\u001b[0;31m---------------------------------------------------------------------------\u001b[0m",
      "\u001b[0;31mValueError\u001b[0m                                Traceback (most recent call last)",
      "Cell \u001b[0;32mIn[5], line 1\u001b[0m\n\u001b[0;32m----> 1\u001b[0m \u001b[43men\u001b[49m\u001b[38;5;241;43m.\u001b[39;49m\u001b[43msplit\u001b[49m\u001b[43m(\u001b[49m\u001b[43m)\u001b[49m\u001b[38;5;241;43m.\u001b[39;49m\u001b[43mindex\u001b[49m\u001b[43m(\u001b[49m\u001b[38;5;124;43m\"\u001b[39;49m\u001b[38;5;124;43memperor uda\u001b[39;49m\u001b[38;5;124;43m\"\u001b[39;49m\u001b[38;5;241;43m.\u001b[39;49m\u001b[43msplit\u001b[49m\u001b[43m(\u001b[49m\u001b[43m)\u001b[49m\u001b[43m)\u001b[49m\n",
      "\u001b[0;31mValueError\u001b[0m: ['emperor', 'uda'] is not in list"
     ]
    }
   ],
   "source": [
    "en.split().index(\"emperor uda\".split())"
   ]
  },
  {
   "cell_type": "code",
   "execution_count": null,
   "metadata": {},
   "outputs": [],
   "source": []
  },
  {
   "cell_type": "code",
   "execution_count": 1,
   "metadata": {},
   "outputs": [
    {
     "data": {
      "application/vnd.jupyter.widget-view+json": {
       "model_id": "1c5bc4d2f61d47b5af5771ce19262c58",
       "version_major": 2,
       "version_minor": 0
      },
      "text/plain": [
       "tokenizer_config.json:   0%|          | 0.00/49.0 [00:00<?, ?B/s]"
      ]
     },
     "metadata": {},
     "output_type": "display_data"
    },
    {
     "data": {
      "application/vnd.jupyter.widget-view+json": {
       "model_id": "67c712c362ae46a785210f0911f4ed7a",
       "version_major": 2,
       "version_minor": 0
      },
      "text/plain": [
       "config.json:   0%|          | 0.00/625 [00:00<?, ?B/s]"
      ]
     },
     "metadata": {},
     "output_type": "display_data"
    },
    {
     "data": {
      "application/vnd.jupyter.widget-view+json": {
       "model_id": "fcbebe3332a146f7af12ad4bdf3e0d16",
       "version_major": 2,
       "version_minor": 0
      },
      "text/plain": [
       "vocab.txt:   0%|          | 0.00/996k [00:00<?, ?B/s]"
      ]
     },
     "metadata": {},
     "output_type": "display_data"
    },
    {
     "data": {
      "application/vnd.jupyter.widget-view+json": {
       "model_id": "6a97c777026a4c65983213777288c956",
       "version_major": 2,
       "version_minor": 0
      },
      "text/plain": [
       "tokenizer.json:   0%|          | 0.00/1.96M [00:00<?, ?B/s]"
      ]
     },
     "metadata": {},
     "output_type": "display_data"
    },
    {
     "data": {
      "application/vnd.jupyter.widget-view+json": {
       "model_id": "ab32c71d35a446048dd8d7d66b30bd48",
       "version_major": 2,
       "version_minor": 0
      },
      "text/plain": [
       "model.safetensors:   0%|          | 0.00/714M [00:00<?, ?B/s]"
      ]
     },
     "metadata": {},
     "output_type": "display_data"
    },
    {
     "name": "stderr",
     "output_type": "stream",
     "text": [
      "Some weights of the model checkpoint at google-bert/bert-base-multilingual-cased were not used when initializing BertForMaskedLM: ['bert.pooler.dense.bias', 'bert.pooler.dense.weight', 'cls.seq_relationship.bias', 'cls.seq_relationship.weight']\n",
      "- This IS expected if you are initializing BertForMaskedLM from the checkpoint of a model trained on another task or with another architecture (e.g. initializing a BertForSequenceClassification model from a BertForPreTraining model).\n",
      "- This IS NOT expected if you are initializing BertForMaskedLM from the checkpoint of a model that you expect to be exactly identical (initializing a BertForSequenceClassification model from a BertForSequenceClassification model).\n"
     ]
    }
   ],
   "source": [
    "import matplotlib.pyplot as plt\n",
    "import numpy as np\n",
    "import  transformers\n",
    "import transformers.models\n",
    "from datasets import load_dataset\n",
    "import torch\n",
    "from transformers import AutoTokenizer\n",
    "from transformers import BertForMaskedLM as HFBertForMaskedLM\n",
    "\n",
    "model_name = \"google-bert/bert-base-multilingual-cased\"\n",
    "device = \"cuda\"\n",
    "tokenizer = AutoTokenizer.from_pretrained(model_name)\n",
    "model_hf_base: HFBertForMaskedLM  = HFBertForMaskedLM.from_pretrained(model_name).to(device) # type: ignore"
   ]
  },
  {
   "cell_type": "code",
   "execution_count": 3,
   "metadata": {},
   "outputs": [
    {
     "data": {
      "text/plain": [
       "1289"
      ]
     },
     "execution_count": 3,
     "metadata": {},
     "output_type": "execute_result"
    }
   ],
   "source": [
    "tokenizer(\"\"\"μνηστῆρες δ᾽ ὁμάδησαν ἀνὰ μέγαρα σκιόεντα,\n",
    "πάντες δ᾽ ἠρήσαντο παραὶ λεχέεσσι κλιθῆναι.\n",
    "τοῖσι δὲ Τηλέμαχος πεπνυμένος ἤρχετο μύθων:\n",
    "‘\n",
    "\n",
    "μητρὸς ἐμῆς μνηστῆρες ὑπέρβιον ὕβριν ἔχοντες,\n",
    "νῦν μὲν δαινύμενοι τερπώμεθα, μηδὲ βοητὺς\n",
    "370ἔστω, ἐπεὶ τόδε καλὸν ἀκουέμεν ἐστὶν ἀοιδοῦ\n",
    "τοιοῦδ᾽ οἷος ὅδ᾽ ἐστί, θεοῖς ἐναλίγκιος αὐδήν.\n",
    "ἠῶθεν δ᾽ ἀγορήνδε καθεζώμεσθα κιόντες\n",
    "πάντες, ἵν᾽ ὕμιν μῦθον ἀπηλεγέως ἀποείπω,\n",
    "ἐξιέναι μεγάρων: ἄλλας δ᾽ ἀλεγύνετε δαῖτας,\n",
    "375ὑμὰ κτήματ᾽ ἔδοντες, ἀμειβόμενοι κατὰ οἴκους.\n",
    "εἰ δ᾽ ὕμιν δοκέει τόδε λωίτερον καὶ ἄμεινον\n",
    "ἔμμεναι, ἀνδρὸς ἑνὸς βίοτον νήποινον ὀλέσθαι,\n",
    "κείρετ᾽: ἐγὼ δὲ θεοὺς ἐπιβώσομαι αἰὲν ἐόντας,\n",
    "αἴ κέ ποθι Ζεὺς δῷσι παλίντιτα ἔργα γενέσθαι:\n",
    "380νήποινοί κεν ἔπειτα δόμων ἔντοσθεν ὄλοισθε.\n",
    "’\n",
    "\n",
    "ὣς ἔφαθ᾽, οἱ δ᾽ ἄρα πάντες ὀδὰξ ἐν χείλεσι φύντες\n",
    "Τηλέμαχον θαύμαζον, ὃ θαρσαλέως ἀγόρευεν.\n",
    "\n",
    "τὸν δ᾽ αὖτ᾽ Ἀντίνοος προσέφη, Εὐπείθεος υἱός:\n",
    "‘Τηλέμαχ᾽, ἦ μάλα δή σε διδάσκουσιν θεοὶ αὐτοὶ\n",
    "385ὑψαγόρην τ᾽ ἔμεναι καὶ θαρσαλέως ἀγορεύειν:\n",
    "μὴ σέ γ᾽ ἐν ἀμφιάλῳ Ἰθάκῃ βασιλῆα Κρονίων\n",
    "ποιήσειεν, ὅ τοι γενεῇ πατρώιόν ἐστιν.\n",
    "’\n",
    "\n",
    "τὸν δ᾽ αὖ Τηλέμαχος πεπνυμένος ἀντίον ηὔδα:\n",
    "‘Ἀντίνο᾽, ἦ καί μοι νεμεσήσεαι ὅττι κεν εἴπω;\n",
    "390καὶ κεν τοῦτ᾽ ἐθέλοιμι Διός γε διδόντος ἀρέσθαι.\n",
    "ἦ φῂς τοῦτο κάκιστον ἐν ἀνθρώποισι τετύχθαι;\n",
    "οὐ μὲν γάρ τι κακὸν βασιλευέμεν: αἶψά τέ οἱ δῶ\n",
    "ἀφνειὸν πέλεται καὶ τιμηέστερος αὐτός.\n",
    "ἀλλ᾽ ἦ τοι βασιλῆες Ἀχαιῶν εἰσὶ καὶ ἄλλοι\n",
    "395πολλοὶ ἐν ἀμφιάλῳ Ἰθάκῃ, νέοι ἠδὲ παλαιοί,\n",
    "τῶν κέν τις τόδ᾽ ἔχῃσιν, ἐπεὶ θάνε δῖος Ὀδυσσεύς:\n",
    "αὐτὰρ ἐγὼν οἴκοιο ἄναξ ἔσομ᾽ ἡμετέροιο\n",
    "καὶ δμώων, οὕς μοι ληίσσατο δῖος Ὀδυσσεύς.\n",
    "’\n",
    "\n",
    "τὸν δ᾽ αὖτ᾽ Εὐρύμαχος Πολύβου πάϊς ἀντίον ηὔδα:\n",
    "‘400Τηλέμαχ᾽, ἦ τοι ταῦτα θεῶν ἐν γούνασι κεῖται,\n",
    "ὅς τις ἐν ἀμφιάλῳ Ἰθάκῃ βασιλεύσει Ἀχαιῶν:\n",
    "κτήματα δ᾽ αὐτὸς ἔχοις καὶ δώμασιν οἷσιν ἀνάσσοις.\n",
    "μὴ γὰρ ὅ γ᾽ ἔλθοι ἀνὴρ ὅς τίς σ᾽ ἀέκοντα βίηφιν\n",
    "κτήματ᾽ ἀπορραίσει, Ἰθάκης ἔτι ναιετοώσης.\n",
    "405ἀλλ᾽ ἐθέλω σε, φέριστε, περὶ ξείνοιο ἐρέσθαι,\n",
    "ὁππόθεν οὗτος ἀνήρ, ποίης δ᾽ ἐξ εὔχεται εἶναι\n",
    "γαίης, ποῦ δέ νύ οἱ γενεὴ καὶ πατρὶς ἄρουρα.\n",
    "ἠέ τιν᾽ ἀγγελίην πατρὸς φέρει ἐρχομένοιο,\n",
    "ἦ ἑὸν αὐτοῦ χρεῖος ἐελδόμενος τόδ᾽ ἱκάνει;\n",
    "410οἷον ἀναΐξας ἄφαρ οἴχεται, οὐδ᾽ ὑπέμεινε\n",
    "γνώμεναι: οὐ μὲν γάρ τι κακῷ εἰς ὦπα ἐῴκει.\n",
    "’\n",
    "\n",
    "τὸν δ᾽ αὖ Τηλέμαχος πεπνυμένος ἀντίον ηὔδα:\n",
    "‘Εὐρύμαχ᾽, ἦ τοι νόστος ἀπώλετο πατρὸς ἐμοῖο:\n",
    "οὔτ᾽ οὖν ἀγγελίῃ ἔτι πείθομαι, εἴ ποθεν ἔλθοι,\n",
    "415οὔτε θεοπροπίης ἐμπάζομαι, ἥν τινα μήτηρ\n",
    "ἐς μέγαρον καλέσασα θεοπρόπον ἐξερέηται.\n",
    "ξεῖνος δ᾽ οὗτος ἐμὸς πατρώιος ἐκ Τάφου ἐστίν,\n",
    "Μέντης δ᾽ Ἀγχιάλοιο δαΐφρονος εὔχεται εἶναι\n",
    "υἱός, ἀτὰρ Ταφίοισι φιληρέτμοισιν ἀνάσσει.\n",
    "’420\n",
    "\n",
    "ὣς φάτο Τηλέμαχος, φρεσὶ δ᾽ ἀθανάτην θεὸν ἔγνω.\"\"\").input_ids.__len__()"
   ]
  },
  {
   "cell_type": "code",
   "execution_count": 4,
   "metadata": {},
   "outputs": [
    {
     "data": {
      "text/plain": [
       "748"
      ]
     },
     "execution_count": 4,
     "metadata": {},
     "output_type": "execute_result"
    }
   ],
   "source": [
    "tokenizer(\"\"\"[1] Then Odysseus, of many wiles, answered him, and said: “Lord Alcinous, renowned above all men, verily this is a good thing, to listen to a minstrel such as this man is, like unto the gods in voice. [5] For myself I declare that there is no greater fulfillment of delight than when joy possesses a whole people, and banqueters in the halls listen to a minstrel as they sit in order due, and by them tables are laden with bread and meat, and the cup-bearer draws wine from the bowl [10] and bears it round and pours it into the cups. This seems to my mind the fairest thing there is. But thy heart is turned to ask of my grievous woes, that I may weep and groan the more. What, then, shall I tell thee first, what last? [15] for woes full many have the heavenly gods given me. First now will I tell my name, that ye, too, may know it, and that I hereafter, when I have escaped from the pitiless day of doom, may be your host, though I dwell in a home that is afar. I am Odysseus, son of Laertes, who [20] am known among men for all manner of wiles,1 and my fame reaches unto heaven. But I dwell in clear-seen Ithaca, wherein is a mountain, Neriton, covered with waving forests, conspicuous from afar; and round it lie many isles hard by one another, Dulichium, and Same, and wooded Zacynthus. [25] Ithaca itself lies close in to the mainland2 the furthest toward the gloom,3 but the others lie apart toward the Dawn and the sun—a rugged isle, but a good nurse of young men; and for myself no other thing can I see sweeter than one's own land. Of a truth Calypso, the beautiful goddess, sought to keep me by her [30] in her hollow caves, yearning that I should be her husband; and in like manner Circe would fain have held me back in her halls, the guileful lady of Aeaea, yearning that I should be her husband; but they could never persuade the heart within my breast. So true is it that naught is sweeter than a man's own land and his parents, [35] even though it be in a rich house that he dwells afar in a foreign land away from his parents. But come, let me tell thee also of my woeful home-coming, which Zeus laid upon me as I came from Troy. “From Ilios the wind bore me and brought me to the Cicones, [40] to Ismarus. There I sacked the city and slew the men; and from the city we took their wives and great store of treasure, and divided them among us, that so far as lay in me no man might go defrauded of an equal share. Then verily I gave command that we should flee with swift foot, but the others in their great folly did not hearken. [45] But there much wine was drunk, and many sheep they slew by the shore, and sleek kine of shambling gait.\"\"\").input_ids.__len__()"
   ]
  },
  {
   "cell_type": "code",
   "execution_count": 8,
   "metadata": {},
   "outputs": [
    {
     "name": "stdout",
     "output_type": "stream",
     "text": [
      "tensor([[ 0.2465, -0.4717, -1.5184, -0.2124,  0.5660, -1.6637,  0.3338],\n",
      "        [ 1.6051, -0.6919, -0.5399, -0.9585, -0.5706, -0.5434, -0.4347],\n",
      "        [ 0.4036, -0.3977, -0.7593, -0.9401,  0.2895,  2.7563,  1.7416],\n",
      "        [-0.6473,  1.2869,  0.2798, -1.4850,  1.4119,  1.0538,  0.6108],\n",
      "        [-0.3316,  0.5742, -2.0137,  0.8630,  0.4930, -0.6791,  0.4650]])\n"
     ]
    },
    {
     "data": {
      "text/plain": [
       "(array([0, 1, 2, 3, 4]), array([4, 0, 5, 1, 3]))"
      ]
     },
     "execution_count": 8,
     "metadata": {},
     "output_type": "execute_result"
    }
   ],
   "source": [
    "from scipy.optimize import linear_sum_assignment\n",
    "import torch\n",
    "from pprint import pprint\n",
    "\n",
    "mat = torch.randn((5,7), generator=torch.Generator().manual_seed(41)) # * 30 + 300\n",
    "print(mat)\n",
    "# mat[\n",
    "# ]\n",
    "linear_sum_assignment(mat, maximize=True)"
   ]
  },
  {
   "cell_type": "code",
   "execution_count": 6,
   "metadata": {},
   "outputs": [
    {
     "data": {
      "text/plain": [
       "(0.001989858286411374, 0.178182)"
      ]
     },
     "execution_count": 6,
     "metadata": {},
     "output_type": "execute_result"
    }
   ],
   "source": [
    "import numpy as np\n",
    "arr = [0.1777,0.1747,0.1783,0.18023,0.17998]\n",
    "np.std(arr), np.mean(arr)"
   ]
  },
  {
   "cell_type": "code",
   "execution_count": null,
   "metadata": {},
   "outputs": [],
   "source": []
  },
  {
   "cell_type": "code",
   "execution_count": 126,
   "metadata": {},
   "outputs": [
    {
     "data": {
      "text/plain": [
       "(500, 442)"
      ]
     },
     "execution_count": 126,
     "metadata": {},
     "output_type": "execute_result"
    }
   ],
   "source": [
    "# to align your data you want at least semi parallel data, as awesome align \n",
    "# showed that the TLM objective (one language gets 15 % mask treatment, and \n",
    "# the other language is allowed to be attended to as much as needed) is useful \n",
    "# for putting the languages into a shared space, and running inference on them.\n",
    "# (should test if the mlm objective can be used as a good substitute or if \n",
    "# parallel data really helps that much) but even then, we can use token level \n",
    "# alignments to determine how larger chunks align, just want to see first how \n",
    "# something like a very large alignment works like if the softmax can ignore \n",
    "# the pointless values for different encodings? perhaps we have to subtract \n",
    "# the mean from each encoding independantly...\n",
    "# Going to first look at some eval data where I have ground truth, in the no \n",
    "# finetune setting.\n",
    "srcs = []\n",
    "tgts = []\n",
    "bpe2word_map_src = []\n",
    "bpe2word_map_tgt = []\n",
    "first_lines = 15\n",
    "first_lines_0 = 10\n",
    "for line in open(\"../data/awesome_training_data/jaen_train_past100.src-tgt\", 'r', encoding=\"utf-8\").readlines()[first_lines_0:first_lines]:\n",
    "    src, tgt = line.strip().split(\" ||| \")\n",
    "    # src = src.split()\n",
    "    # tgt = tgt.split()\n",
    "    srcs += [src]\n",
    "    tgts += [tgt]\n",
    "    # srcs_tgts.append((src, tgt))\n",
    "\n",
    "gold_sure_word_alignments = []\n",
    "src_start = 0\n",
    "tgt_start = 0\n",
    "for i, line in enumerate(open(\"../data/awesome_training_data/jaen_train_past100.gold\", 'r', encoding=\"utf-8\").readlines()[first_lines_0:first_lines]):\n",
    "    line = line.strip()\n",
    "    local_alignments = line.split(\" \")\n",
    "    local_alignments = [[int(a) for a in alignment.split(\"-\")] for alignment in local_alignments]\n",
    "\n",
    "    gold_sure_word_alignments.extend((s + src_start, t + tgt_start) for s, t in local_alignments)\n",
    "    # newbpe2word_map_src = []\n",
    "    # print(\"srcs[i]\", srcs[i])\n",
    "    # print(srcs[i].split(\" \"))\n",
    "    for j, word_s in enumerate(srcs[i].split(\" \")):\n",
    "        # print(tokenizer.tokenize(word_s))\n",
    "        bpe2word_map_src += [j + src_start] * len(tokenizer.encode(word_s, add_special_tokens=False))\n",
    "    # print(newbpe2word_map_src)\n",
    "    # print(len(srcs[i].split(\" \")))\n",
    "    for j, word_t in enumerate(tgts[i].split(\" \")):\n",
    "        bpe2word_map_tgt += [j + tgt_start] * len(tokenizer.encode(word_t, add_special_tokens=False))\n",
    "\n",
    "    src_start += len(srcs[i].split())\n",
    "    tgt_start += len(tgts[i].split())\n",
    "src = \" \".join(srcs)\n",
    "tgt = \" \".join(tgts)\n",
    "len(bpe2word_map_src), len(bpe2word_map_tgt)\n",
    "# gold_sure_word_alignments"
   ]
  },
  {
   "cell_type": "code",
   "execution_count": 127,
   "metadata": {},
   "outputs": [
    {
     "name": "stdout",
     "output_type": "stream",
     "text": [
      "502\n"
     ]
    }
   ],
   "source": [
    "def get_encoder_hidden_state(input_ids):\n",
    "    layer_number = 7\n",
    "    activation = dict()\n",
    "    activation_name = f\"layer_{layer_number}_activation\"\n",
    "    def hook(module, input, output):\n",
    "        activation[activation_name] = output[0]\n",
    "    hook_handle = model_hf_base.bert.encoder.layer[layer_number].register_forward_hook(hook)\n",
    "\n",
    "    # run model\n",
    "    PAD_ID = 0\n",
    "    # run the sequence in in parts here: could be completely disjoint or have overlapping segments which are cutout to help keep encodings from having sharp differences next to eachother.\n",
    "    if input_ids.shape[1] > 512:\n",
    "        aggregate = []\n",
    "        if True: # this to encode disjoint segments # can you encode things in bert without the cls and sep tokens?\n",
    "            temp_ids = input_ids[:, :512]\n",
    "            attention_mask = (temp_ids != PAD_ID).to(device)\n",
    "            model_hf_base.bert(temp_ids, attention_mask=attention_mask)\n",
    "            aggregate.append(activation[activation_name][:, :256+128])\n",
    "            i = 1\n",
    "            while (i + 2) * 256 < input_ids.shape[1]:\n",
    "                temp_ids = input_ids[:, i*256:(i+2)*256]\n",
    "                attention_mask = (temp_ids != PAD_ID).to(device)\n",
    "                model_hf_base.bert(temp_ids, attention_mask=attention_mask)\n",
    "                aggregate.append(activation[activation_name][:, 128 : 256+128])\n",
    "                i += 1\n",
    "            remainder_start = i*256 + 128 - (input_ids.shape[1] - 512)\n",
    "            temp_ids = input_ids[:, input_ids.shape[1] - 512:input_ids.shape[1]]\n",
    "            attention_mask = (temp_ids != PAD_ID).to(device)\n",
    "            model_hf_base.bert(temp_ids, attention_mask=attention_mask)\n",
    "            aggregate.append(activation[activation_name][:, remainder_start:])\n",
    "        else:\n",
    "            pass\n",
    "        encoder_hidden_state = torch.concat(aggregate, dim=1)\n",
    "    else:\n",
    "        attention_mask = (input_ids != PAD_ID).to(device)\n",
    "        model_hf_base.bert(input_ids, attention_mask=attention_mask)\n",
    "        encoder_hidden_state = activation[activation_name]\n",
    "    hook_handle.remove()\n",
    "    return encoder_hidden_state\n",
    "def get_word_alignment_from_token_alignment(token_alignment: torch.Tensor, bpe2word_map_src, bpe2word_map_tgt):\n",
    "    # need word level alignment: using the any token matching heuristic to get at this.\n",
    "    token_alignment = token_alignment.detach().cpu()\n",
    "    batch_size = token_alignment.size(0)\n",
    "    word_level_alignments = [set() for i in range(batch_size)]\n",
    "    # could need to place this alignment matrix on cpu, as I will be decomposing it as I look for word level alignments.\n",
    "    # will first try without it, and just see how the performance changes from 11.28it/s on train 30.72it/s on eval batch_size 8,  1.78 it/s on train and 3.31 it/s on eval batch_size 64.\n",
    "\n",
    "    for i in range(batch_size):\n",
    "        for j, k in zip(*torch.where(token_alignment[i])):\n",
    "            # given that the word alignments are computed with a cls token prepended, be -1 to make alignment zero indexed.\n",
    "            word_level_alignments[i].add((bpe2word_map_src[i][j - 1], bpe2word_map_tgt[i][k - 1]))\n",
    "    return [list(word_level_alignment) for word_level_alignment in word_level_alignments]\n",
    "def get_token_alignments_and_src_tgt_lens(examples_src, examples_tgt):\n",
    "    PAD_ID = 0\n",
    "    CLS_ID = 101\n",
    "    SEP_ID = 102\n",
    "    threshold = 0.001\n",
    "    negative_val = torch.finfo(torch.float32).min\n",
    "    tiny_val = torch.finfo(torch.float32).tiny\n",
    "    src_hidden_states = get_encoder_hidden_state(examples_src)\n",
    "    tgt_hidden_states = get_encoder_hidden_state(examples_tgt)\n",
    "    # if cosine_sim:\n",
    "    #     src_hidden_states_norm = src_hidden_states / (src_hidden_states.norm(dim=-1, keepdim=True) + tiny_val)\n",
    "    #     tgt_hidden_states_norm = tgt_hidden_states / (tgt_hidden_states.norm(dim=-1, keepdim=True) + tiny_val)\n",
    "    #     alignment_scores = (src_hidden_states_norm @ tgt_hidden_states_norm.transpose(-1,-2))\n",
    "    # else:\n",
    "    alignment_scores = (src_hidden_states @ tgt_hidden_states.transpose(-1,-2))\n",
    "    # alignment_scores /= sim_func_temp\n",
    "    src_tgt_mask = ((examples_tgt == CLS_ID) | (examples_tgt == SEP_ID) | (examples_tgt == PAD_ID)).to(device)\n",
    "    tgt_src_mask = ((examples_src == CLS_ID) | (examples_src == SEP_ID) | (examples_src == PAD_ID)).to(device)\n",
    "    len_src = (1 - tgt_src_mask.float()).sum(1)\n",
    "    len_tgt = (1 - src_tgt_mask.float()).sum(1)\n",
    "    src_tgt_mask = (src_tgt_mask * negative_val)[:, None, :].to(device)\n",
    "    tgt_src_mask = (tgt_src_mask * negative_val)[:, :, None].to(device)\n",
    "    src_tgt_masked_alignment_scores = alignment_scores + src_tgt_mask\n",
    "    tgt_src_masked_alignment_scores = alignment_scores + tgt_src_mask\n",
    "    # src_tgt_softmax: how the source aligns to the target (softmax across the tgt words for one src word sum to one.)\n",
    "    src_tgt_softmax = torch.softmax(src_tgt_masked_alignment_scores, dim=-1)\n",
    "    tgt_src_softmax = torch.softmax(tgt_src_masked_alignment_scores, dim=-2)\n",
    "    token_alignment = (src_tgt_softmax > threshold) * (tgt_src_softmax > threshold)\n",
    "    return token_alignment, src_tgt_masked_alignment_scores, tgt_src_masked_alignment_scores, src_tgt_mask, tgt_src_mask, len_src, len_tgt\n",
    "\n",
    "src_encoding = tokenizer(src, return_tensors=\"pt\").to(device).input_ids\n",
    "tgt_encoding = tokenizer(tgt, return_tensors=\"pt\").to(device).input_ids\n",
    "\n",
    "print(tokenizer(src).input_ids.__len__())\n",
    "token_alignment, *_ = get_token_alignments_and_src_tgt_lens(src_encoding, tgt_encoding)\n",
    "# token_alignment.shape\n",
    "word_alignments = get_word_alignment_from_token_alignment(token_alignment, [bpe2word_map_src], [bpe2word_map_tgt])[0]"
   ]
  },
  {
   "cell_type": "code",
   "execution_count": null,
   "metadata": {},
   "outputs": [],
   "source": [
    "import matplotlib.pyplot as plt\n",
    "from matplotlib.collections import PatchCollection\n",
    "from matplotlib.patches import Rectangle\n",
    "def display_alignment(index, sure, possible, word_alignment, source, target, language, bigger_boxes=False):\n",
    "    m = len(source)\n",
    "    l = len(target)\n",
    "    hypothesis_mat = np.zeros((m, l))\n",
    "    hypothesis_mat[tuple(zip(*word_alignment))] = 1\n",
    "    # plt.style.use('_mpl-gallery-nogrid')\n",
    "    multiplier = 1 if bigger_boxes else 0.5 \n",
    "    multiplier = 0.2 # smaller boxes for wandb\n",
    "    fig, ax = plt.subplots(figsize = (1 + len(source) * multiplier, 1 + len(target) * multiplier))\n",
    "    # precision recall for this image:\n",
    "    \n",
    "    num_sure = len(sure)\n",
    "    guesses_made = len(word_alignment)\n",
    "    guesses_made_in_sure = len(set(word_alignment).intersection(sure))\n",
    "    guesses_made_in_possible = len(set(word_alignment).intersection(possible))\n",
    "    precision = guesses_made_in_possible / guesses_made\n",
    "    recall = guesses_made_in_sure / num_sure\n",
    "    aer = 1 - ((guesses_made_in_possible + guesses_made_in_sure) / (guesses_made + num_sure))\n",
    "    \n",
    "    num_words_total = m + l\n",
    "    num_words_covered = len(set(s for s,t in word_alignment)) + len(set(t for s,t in word_alignment))\n",
    "    coverage = num_words_covered / num_words_total\n",
    "\n",
    "    ax.set_title(f\"{index:3} p_r_aer_cvg=[{precision:.5f}, {recall:.5f}, {aer:.5f}, {coverage:.5f}]\")\n",
    "    im = ax.imshow(hypothesis_mat, cmap='Blues', vmin=0, vmax=1)\n",
    "    ax.set_xticks(np.arange(len(target)), labels=target)\n",
    "    \n",
    "    if 'jaen' not in (language or \" \"):\n",
    "        ax.set_yticks(np.arange(len(source)), labels=source)\n",
    "\n",
    "    # Rotate the tick labels and set their alignment.\n",
    "    plt.setp(ax.get_xticklabels(), rotation=45, ha=\"right\",\n",
    "            rotation_mode=\"anchor\")\n",
    "\n",
    "    # Loop over data dimensions and create text annotations.\n",
    "    # for i in range(m): # this will be useful when I want to plot percentages maybe when doing something more than word alignment.\n",
    "    #     for j in range(l):\n",
    "    #         text = ax.text(j, i, hypothesis_mat[i, j],\n",
    "    #                     ha=\"center\", va=\"center\", color=\"orange\")\n",
    "    patches_sure = []\n",
    "    patches_possible = []\n",
    "    for box in sure:\n",
    "        patches_sure.append(Rectangle((box[1]-0.3,box[0]-0.3), 0.6, 0.6, angle=45, rotation_point=\"center\"))\n",
    "    for box in set(possible).difference(set(sure)):\n",
    "        patches_possible.append(Rectangle((box[1]-0.4,box[0]-0.4), 0.8, 0.8))\n",
    "    ax.add_collection(PatchCollection(patches_sure, edgecolor=\"LightGreen\", facecolor=\"none\",lw=2))\n",
    "    ax.add_collection(PatchCollection(patches_possible, edgecolor=\"Orange\", facecolor=\"none\", lw=2))\n",
    "    # ax.legend([\"Orange is possible\", \"Green is sure\"]) # this doesn't seem to work, but only necessary for paper, and can be added in post.\n",
    "    fig.tight_layout()\n",
    "    # print(df.sort_values(out_format + 'impact_on_aer').index.tolist()[::-1])\n",
    "    return fig\n",
    "display_alignment(first_lines, gold_sure_word_alignments, gold_sure_word_alignments, word_alignments, src.split(), tgt.split(), language=\"jaen\");"
   ]
  },
  {
   "cell_type": "code",
   "execution_count": 129,
   "metadata": {},
   "outputs": [
    {
     "data": {
      "text/plain": [
       "(377, 317)"
      ]
     },
     "execution_count": 129,
     "metadata": {},
     "output_type": "execute_result"
    }
   ],
   "source": [
    "len(src.split()), len(tgt.split())"
   ]
  },
  {
   "cell_type": "code",
   "execution_count": 2,
   "metadata": {},
   "outputs": [
    {
     "name": "stderr",
     "output_type": "stream",
     "text": [
      "Some weights of the model checkpoint at google-bert/bert-base-multilingual-cased were not used when initializing BertForMaskedLM: ['bert.pooler.dense.bias', 'bert.pooler.dense.weight', 'cls.seq_relationship.bias', 'cls.seq_relationship.weight']\n",
      "- This IS expected if you are initializing BertForMaskedLM from the checkpoint of a model trained on another task or with another architecture (e.g. initializing a BertForSequenceClassification model from a BertForPreTraining model).\n",
      "- This IS NOT expected if you are initializing BertForMaskedLM from the checkpoint of a model that you expect to be exactly identical (initializing a BertForSequenceClassification model from a BertForSequenceClassification model).\n"
     ]
    },
    {
     "name": "stdout",
     "output_type": "stream",
     "text": [
      "1722548343.9515126\n",
      "1722548343.9566543\n",
      "1722548343.958581\n"
     ]
    },
    {
     "data": {
      "text/plain": [
       "MaskedLMOutput(loss=None, logits=tensor([[[-4.6589, -5.5733, -5.0571,  ..., -2.5611, -4.1598, -3.7215],\n",
       "         [-4.4789, -4.5963, -5.2480,  ..., -4.4263, -3.7023, -4.2727],\n",
       "         [-2.8390, -2.4960, -3.3355,  ..., -2.2080, -2.6400, -2.1785],\n",
       "         ...,\n",
       "         [-2.3649, -2.0738, -3.1991,  ..., -2.3906, -2.7330, -3.2125],\n",
       "         [-2.8385, -2.2529, -3.7589,  ..., -3.2625, -2.5879, -3.3829],\n",
       "         [-2.6641, -2.1425, -3.1769,  ..., -2.0050, -2.5285, -1.9412]],\n",
       "\n",
       "        [[-4.4542, -5.5395, -4.8387,  ..., -2.4475, -3.5657, -3.4549],\n",
       "         [-5.1428, -5.3833, -5.2248,  ..., -4.9785, -4.7400, -4.5160],\n",
       "         [-4.5501, -4.4916, -4.8488,  ..., -3.8000, -3.8501, -2.8966],\n",
       "         ...,\n",
       "         [-3.3131, -2.8441, -3.8255,  ..., -1.4054, -4.4343, -3.3747],\n",
       "         [-3.0288, -2.9953, -3.7495,  ..., -2.6490, -2.8021, -2.4366],\n",
       "         [-5.1453, -5.1889, -5.7169,  ..., -4.5150, -4.7422, -4.8650]],\n",
       "\n",
       "        [[-4.0708, -5.0657, -4.5067,  ..., -1.9892, -3.5914, -3.0723],\n",
       "         [-4.1652, -4.5161, -4.8972,  ..., -4.2601, -4.3111, -5.1154],\n",
       "         [-3.6802, -3.9947, -4.9537,  ..., -3.0835, -4.2180, -4.8198],\n",
       "         ...,\n",
       "         [-3.8016, -3.2895, -4.4929,  ..., -2.4830, -4.1997, -4.3504],\n",
       "         [-6.8551, -5.3997, -6.8772,  ..., -4.1683, -5.4078, -5.5858],\n",
       "         [-3.1061, -2.9814, -3.0265,  ..., -2.2303, -2.9555, -2.5753]],\n",
       "\n",
       "        ...,\n",
       "\n",
       "        [[-3.9982, -4.7714, -4.0832,  ..., -1.8839, -3.3264, -3.1465],\n",
       "         [-3.7192, -3.9399, -4.5029,  ..., -4.0771, -3.8762, -3.7505],\n",
       "         [-1.2364, -1.3400, -2.1465,  ..., -1.3951, -0.7009, -0.9742],\n",
       "         ...,\n",
       "         [-5.4605, -5.9380, -7.2493,  ..., -4.8560, -6.3853, -5.8897],\n",
       "         [-4.0821, -3.4937, -4.1516,  ..., -3.2756, -3.4573, -2.6425],\n",
       "         [-3.7088, -4.0322, -4.5699,  ..., -2.8263, -2.9623, -2.5261]],\n",
       "\n",
       "        [[-4.2565, -5.0308, -4.5969,  ..., -1.7783, -3.8563, -3.2121],\n",
       "         [-5.2129, -5.2714, -5.5547,  ..., -4.9992, -5.2698, -4.3786],\n",
       "         [-3.5935, -3.3292, -4.0636,  ..., -2.2928, -3.3022, -2.0505],\n",
       "         ...,\n",
       "         [-4.5747, -4.0493, -4.7326,  ..., -3.9382, -4.4806, -4.9873],\n",
       "         [-4.6449, -3.4257, -4.5746,  ..., -2.9343, -3.6724, -4.3314],\n",
       "         [-4.4945, -4.1945, -4.7553,  ..., -3.0095, -3.9349, -3.2707]],\n",
       "\n",
       "        [[-6.2296, -7.5558, -6.7605,  ..., -3.6982, -4.9743, -5.3590],\n",
       "         [-3.8196, -4.2262, -4.8322,  ..., -3.9030, -2.8634, -3.5270],\n",
       "         [-4.6997, -4.4453, -4.4451,  ..., -3.9704, -4.1538, -2.8195],\n",
       "         ...,\n",
       "         [-5.6157, -4.7601, -6.1268,  ..., -5.2936, -6.0475, -5.8090],\n",
       "         [-4.0674, -3.3016, -4.0053,  ..., -2.8454, -3.3678, -2.8800],\n",
       "         [-4.4269, -4.1991, -4.8213,  ..., -2.8029, -3.8364, -3.4015]]],\n",
       "       device='cuda:0', grad_fn=<ViewBackward0>), hidden_states=None, attentions=None)"
      ]
     },
     "execution_count": 2,
     "metadata": {},
     "output_type": "execute_result"
    }
   ],
   "source": [
    "# timing the forward pass of bert does about 33 % slower for running the rest of the model.\n",
    "from transformers import BertForMaskedLM as HFBertForMaskedLM\n",
    "# from transformers.models.bert import BertForMaskedLM\n",
    "import torch\n",
    "import timeit\n",
    "import time\n",
    "model_name = \"google-bert/bert-base-multilingual-cased\"\n",
    "device = \"cuda\"\n",
    "model_hf_base: HFBertForMaskedLM = HFBertForMaskedLM.from_pretrained(model_name, ignore_mismatched_sizes=True).to(device) # type: ignore\n",
    "\n",
    "input_dummy_data = torch.randint(0, 2000, (32, 512,), device=device)\n",
    "# def do_stuff():\n",
    "\n",
    "# def hook(m, i, o=None):\n",
    "#     print(time.time())\n",
    "\n",
    "# handles = []\n",
    "# handles.append(model_hf_base.bert.register_forward_pre_hook(hook))\n",
    "# handles.append(model_hf_base.bert.encoder.layer[7].register_forward_hook(hook))\n",
    "# handles.append(model_hf_base.cls.register_forward_hook(hook))\n",
    "\n",
    "model_hf_base(input_ids=input_dummy_data, attention_mask=(input_dummy_data != 0))\n",
    "# [handle.remove() for handle in handles];\n",
    "# now concat all the tokens from de together, and see how long it would take to encode them all?\n",
    "# timeit.timeit(do_stuff, number=100)"
   ]
  },
  {
   "cell_type": "code",
   "execution_count": 9,
   "metadata": {},
   "outputs": [
    {
     "data": {
      "text/plain": [
       "0.291081"
      ]
     },
     "execution_count": 9,
     "metadata": {},
     "output_type": "execute_result"
    }
   ],
   "source": [
    "# 39.1081/100"
   ]
  },
  {
   "cell_type": "code",
   "execution_count": 2,
   "metadata": {},
   "outputs": [],
   "source": [
    "import numpy as np\n",
    "import pandas as pd\n",
    "import ipywidgets as widgets\n",
    "from ipywidgets import interact\n",
    "from matplotlib import rc\n",
    "import matplotlib.pyplot as plt\n",
    "from matplotlib.collections import PatchCollection\n",
    "from matplotlib.patches import Rectangle\n",
    "from glob import glob\n",
    "import tqdm"
   ]
  },
  {
   "cell_type": "code",
   "execution_count": 3,
   "metadata": {},
   "outputs": [],
   "source": [
    "# import matplotlib\n",
    "# matplotlib.font_manager._rebuild()\n",
    "# from matplotlib import font_manager\n",
    "# \"Cascadia Code\"\n",
    "# rc(\"font\", family=\"LiberationSans\")\n",
    "# font_manager.findSystemFonts()\n",
    "# matplotlib.rc('font', family=font_manager.get_font(\"/nethome/jbjorner3/.fonts/TakaoPGothic.ttf\"))"
   ]
  },
  {
   "cell_type": "code",
   "execution_count": 4,
   "metadata": {},
   "outputs": [
    {
     "name": "stdout",
     "output_type": "stream",
     "text": [
      "gold\n",
      "(1.0, 1.0, 0.0, 0.8675156441220794)\n",
      "['明治', '5', '年', '（', '1872', '年', '）', '太政官', '正院', 'から', '各', '府県', 'へ', '「', '一向', '宗', '名', '之', '儀', '、', '自今', '真宗', 'ト', '改名', '可致', '旨', '」', 'の', '布告', 'が', '発', 'せ', 'られ', '、', 'ここ', 'に', '近代', 'に', 'な', 'っ', 'て', 'ようやく', '「', '（', '浄土', '）', '真宗', '」', 'と', '表記', 'する', 'こと', 'が', '認め', 'られ', 'た', 'の', 'で', 'あ', 'る', '。']\n",
      "['in', '1872', ',', 'dajokan', 'seiin', 'issued', 'an', 'edict', 'to', 'each', 'prefecture', ',', 'saying', '\"', 'the', 'name', 'of', 'ikko', 'shu', 'can', 'be', 'changed', 'to', 'shinshu', ',', '\"', 'and', 'finally', 'here', 'in', 'the', 'modern', 'ages', ',', 'describing', 'it', 'as', '\"', '(', 'jodo', ')', 'shinshu', '\"', 'was', 'allowed', '.']\n",
      "明治 5 年 （ 1872 年 ） 太政官 正院 から 各 府県 へ 「 一向 宗 名 之 儀 、 自今 真宗 ト 改名 可致 旨 」 の 布告 が 発 せ られ 、 ここ に 近代 に な っ て ようやく 「 （ 浄土 ） 真宗 」 と 表記 する こと が 認め られ た の で あ る 。\n",
      "in 1872 , dajokan seiin issued an edict to each prefecture , saying \" the name of ikko shu can be changed to shinshu , \" and finally here in the modern ages , describing it as \" ( jodo ) shinshu \" was allowed .\n",
      "(1.0, 1.0, 0.0)\n",
      "orange boxes indicate possible alignments, and green diamonds indicate sure alignments as labeled by human annotators\n"
     ]
    },
    {
     "data": {
      "image/png": "[encoded data removed]",
      "text/plain": [
       "<Figure size 3050x2300 with 1 Axes>"
      ]
     },
     "metadata": {},
     "output_type": "display_data"
    },
    {
     "name": "stdout",
     "output_type": "stream",
     "text": [
      "[99, 36, 26, 27, 28, 29, 30, 31, 32, 33, 34, 35, 37, 98, 38, 39, 40, 41, 42, 43, 44, 45, 46, 47, 25, 24, 23, 22, 1, 2, 3, 4, 5, 6, 7, 8, 9, 10, 11, 12, 13, 14, 15, 16, 17, 18, 19, 20, 21, 48, 49, 50, 75, 77, 78, 79, 80, 81, 82, 83, 84, 85, 86, 87, 88, 89, 90, 91, 92, 93, 94, 95, 96, 97, 76, 74, 51, 73, 52, 53, 54, 55, 56, 57, 58, 59, 60, 61, 62, 63, 64, 65, 66, 67, 68, 69, 70, 71, 72, 0]\n"
     ]
    }
   ],
   "source": [
    "langset= \"jaen_eval_first100\"\n",
    "paths = glob(f\"../data/awesome_eval_data/{langset}.*\")\n",
    "# print(paths)\n",
    "df = pd.DataFrame({path.split(f'/')[-1].replace(f\"{langset}.\", \"\"): open(path, \"r\", encoding='utf-8').read().split('\\n')[:-1] for path in paths})\n",
    "# datum = df.iloc[130] # [\"nofinetune.out\"]\n",
    "def prepare_raw_datum(raw_gold, raw_hypothesis, raw_srt_tgt):\n",
    "    src, tgt = [d.strip().split(\" \") for d in raw_srt_tgt.split(\" ||| \")]\n",
    "    m = len(src)\n",
    "    l = len(tgt)\n",
    "    gold_mat = np.zeros((m, l)) # assume gold is 1 indexed, so subtract by 1.\n",
    "    sub = 1\n",
    "    if \"jaen\" in langset and \"awesome_test_examples\" not in paths[0]:\n",
    "        sub = 0\n",
    "    possible_gold_mat = [tuple(int(i)-sub for i in out.replace('-', 'p').split('p')) for out in raw_gold.strip().split(' ')]\n",
    "    sure_gold_mat = [tuple(int(i)-sub for i in out.split('-')) for out in raw_gold.strip().split(' ') if \"-\" in out]\n",
    "    gold_mat[tuple(zip(*possible_gold_mat))] = 0.5\n",
    "    gold_mat[tuple(zip(*sure_gold_mat))] = 1\n",
    "\n",
    "    out_mat = np.zeros((m, l))\n",
    "    sure_hypo_mat = [tuple(int(i)-sub for i in out.split('-')) for out in raw_hypothesis.split(' ') if \"-\" in out]\n",
    "    out_mat[tuple(zip(*sure_hypo_mat))] = 1\n",
    "\n",
    "    return gold_mat, out_mat, src, tgt\n",
    "def get_prec_recall_aer(sure, possible, hypothesis, srcs, tgts, return_impact=False):\n",
    "    total_sure = 0\n",
    "    total_guessed = 0\n",
    "    # recall is the ones you can get right out of the ones there are to get right.\n",
    "    # this is the A intersect sure / sure\n",
    "    total_recall_numerator = 0\n",
    "\n",
    "    # precision is the ones you get right out of the ones you guessed.\n",
    "    # this is A interect possible / A\n",
    "    total_precision_numerator = 0\n",
    "    coverages = []\n",
    "\n",
    "    for s, p, h in zip(sure, possible, hypothesis):\n",
    "        total_sure += len(s)\n",
    "        total_guessed += len(h)\n",
    "        total_recall_numerator += len(set(s).intersection(h))\n",
    "        total_precision_numerator += len(set(h).intersection(p))\n",
    "    precision = total_precision_numerator / total_guessed\n",
    "    recall = total_recall_numerator / total_sure\n",
    "    aer = 1 - (total_recall_numerator + total_precision_numerator) / (total_sure + total_guessed)\n",
    "\n",
    "    num_sure = 0\n",
    "    guesses_made = 0\n",
    "    guesses_made_in_possible = 0\n",
    "    guesses_made_in_sure = 0\n",
    "\n",
    "    # num_words_total = 0\n",
    "    # num_words_covered = 0\n",
    "    coverages = []\n",
    "    for gold_sure_word_alignment, gold_possible_word_alignment, word_level_alignment, src, tgt in zip(sure, possible, hypothesis, srcs, tgts):\n",
    "    \n",
    "        num_sure += len(gold_sure_word_alignment)\n",
    "        guesses_made += len(word_level_alignment)\n",
    "        guesses_made_in_sure += len(set(word_level_alignment).intersection(gold_sure_word_alignment))\n",
    "        guesses_made_in_possible += len(set(word_level_alignment).intersection(gold_possible_word_alignment))\n",
    "        # num_words_total += len(src) + len(tgt) # this doesn't account for the fact we only take the first 510 tokens to align.\n",
    "        # num_words_covered += len(set(s for s,t in word_level_alignment)) + len(set(t for s,t in word_level_alignment))\n",
    "        coverages.append((len(set(s for s,t in word_level_alignment)) + len(set(t for s,t in word_level_alignment))) / (len(src) + len(tgt)))\n",
    "    precision2 = guesses_made_in_possible / guesses_made\n",
    "    recall2 = guesses_made_in_sure / num_sure\n",
    "    aer2 = 1 - ((guesses_made_in_possible + guesses_made_in_sure) / (guesses_made + num_sure))\n",
    "    coverage = sum(coverages) / len(coverages)\n",
    "    assert (precision == precision2)\n",
    "    assert (recall == recall2)\n",
    "    assert (aer == aer2)\n",
    "\n",
    "    if return_impact:\n",
    "        impact = (total_sure + total_guessed) - (total_recall_numerator + total_precision_numerator)\n",
    "        return precision2, recall2, aer2, coverage, impact\n",
    "    else:\n",
    "        return precision2, recall2, aer2, coverage\n",
    "\n",
    "# display_alignment(*prepare_raw_datum(datum[\"gold\"], datum['nofinetune.out'], datum['src-tgt']))\n",
    "\n",
    "for out_format in [\"gold\"]: # , \"fast-grow-diagonal\"\n",
    "    sure = []\n",
    "    possible = []\n",
    "    hypothesis = []\n",
    "    srcs = []\n",
    "    tgts = []\n",
    "    for i in range(len(df)):\n",
    "        datum = df.iloc[i]\n",
    "        gold_mat, out_mat, src, tgt = prepare_raw_datum(datum[\"gold\"], datum[\"gold\"], datum['src-tgt'])\n",
    "        \n",
    "        s = list(zip(*np.where(gold_mat==1)))\n",
    "        p = list(zip(*np.where(gold_mat>=0.5)))\n",
    "        h = list(zip(*np.where(out_mat==1)))\n",
    "        df.loc[i,out_format + \"precision\"], df.loc[i,out_format + \"recall\"], df.loc[i,out_format + \"aer\"], df.loc[i,out_format + \"coverage\"], df.loc[i, out_format + \"impact_on_aer\"] = get_prec_recall_aer([s], [p], [h], [src], [tgt], return_impact=True) # type: ignore\n",
    "        \n",
    "        sure.append(s)\n",
    "        possible.append(p)\n",
    "        hypothesis.append(h)\n",
    "        srcs.append(src)\n",
    "        tgts.append(tgt)\n",
    "    print(out_format)\n",
    "    print(get_prec_recall_aer(sure, possible, hypothesis, srcs, tgts))\n",
    "def display_alignment(gold, hypothesis, source, target, p_r_aer=None, bigger_boxes=False, matrix_to_compute_p_r_aer=None, language=None):\n",
    "    m = len(source)\n",
    "    l = len(target)\n",
    "    # plt.style.use('_mpl-gallery-nogrid')\n",
    "    multiplier = 1 if bigger_boxes else 0.5 \n",
    "    fig, ax = plt.subplots(figsize = (len(source) * multiplier, len(target) * multiplier))\n",
    "    im = ax.imshow(hypothesis, cmap='Blues')\n",
    "    ax.set_xticks(np.arange(len(target)), labels=target)\n",
    "    \n",
    "    if 'jaen' not in (language or \" \"):\n",
    "        ax.set_yticks(np.arange(len(source)), labels=source)\n",
    "\n",
    "    # Rotate the tick labels and set their alignment.\n",
    "    plt.setp(ax.get_xticklabels(), rotation=45, ha=\"right\",\n",
    "            rotation_mode=\"anchor\")\n",
    "\n",
    "    # Loop over data dimensions and create text annotations.\n",
    "    for i in range(m):\n",
    "        for j in range(l):\n",
    "            text = ax.text(j, i, hypothesis[i, j],\n",
    "                        ha=\"center\", va=\"center\", color=\"orange\")\n",
    "    patches_sure = []\n",
    "    patches_possible = []\n",
    "    for box in zip(*np.where(gold == 1.)):\n",
    "        patches_sure.append(Rectangle((box[1]-0.3,box[0]-0.3), 0.6, 0.6, angle=45, rotation_point=\"center\"))\n",
    "    for box in zip(*np.where(gold == 0.5)):\n",
    "        patches_possible.append(Rectangle((box[1]-0.4,box[0]-0.4), 0.8, 0.8))\n",
    "    ax.add_collection(PatchCollection(patches_sure, edgecolor=\"LightGreen\", facecolor=\"none\",lw=2))\n",
    "    ax.add_collection(PatchCollection(patches_possible, edgecolor=\"Orange\", facecolor=\"none\", lw=2))\n",
    "    # fig.tight_layout()\n",
    "\n",
    "    print(source)\n",
    "    print(target)\n",
    "    print(' '.join(source))\n",
    "    print(' '.join(target))\n",
    "    if p_r_aer:\n",
    "        print(p_r_aer)\n",
    "    elif matrix_to_compute_p_r_aer is not None:\n",
    "        sure = [list(zip(*np.where(gold==1)))]\n",
    "        possible = [list(zip(*np.where(gold>=0.5)))]\n",
    "        hypothesis = [list(zip(*np.where(matrix_to_compute_p_r_aer==1)))]\n",
    "\n",
    "        print(get_prec_recall_aer(sure, possible, hypothesis, [source], [target]))\n",
    "    print(\"orange boxes indicate possible alignments, and green diamonds indicate sure alignments as labeled by human annotators\")\n",
    "    plt.show()\n",
    "    print(df.sort_values(out_format + 'impact_on_aer').index.tolist()[::-1])\n",
    "for i in [99]:\n",
    "    datum = df.iloc[i]\n",
    "    out_format = 'gold'\n",
    "    display_alignment(*prepare_raw_datum(datum[\"gold\"], datum[f'gold'], datum['src-tgt']), (df.loc[i,out_format + \"precision\"], df.loc[i, out_format + \"recall\"], df.loc[i, out_format + \"aer\"]), language=langset)"
   ]
  },
  {
   "cell_type": "code",
   "execution_count": 25,
   "metadata": {},
   "outputs": [],
   "source": [
    "from greek.dataset.dataset import AwesomeAlignDataset\n",
    "enfr_eval_dataset = AwesomeAlignDataset(tokenizer, \"../data/awesome_eval_data/enfr_eval_first100.src-tgt\", \"../data/awesome_eval_data/enfr_eval_first100.gold\", gold_one_index=True, ignore_possible_alignments=False)"
   ]
  },
  {
   "cell_type": "code",
   "execution_count": 26,
   "metadata": {},
   "outputs": [
    {
     "data": {
      "text/plain": [
       "<greek.dataset.dataset.AwesomeAlignDataset at 0x7f6ad318e980>"
      ]
     },
     "execution_count": 26,
     "metadata": {},
     "output_type": "execute_result"
    }
   ],
   "source": [
    "enfr_eval_dataset"
   ]
  },
  {
   "cell_type": "code",
   "execution_count": 19,
   "metadata": {},
   "outputs": [
    {
     "data": {
      "text/plain": [
       "BertForMaskedLM(\n",
       "  (bert): BertModel(\n",
       "    (embeddings): BertEmbeddings(\n",
       "      (word_embeddings): Embedding(119547, 768, padding_idx=0)\n",
       "      (position_embeddings): Embedding(512, 768)\n",
       "      (token_type_embeddings): Embedding(2, 768)\n",
       "      (LayerNorm): LayerNorm((768,), eps=1e-12, elementwise_affine=True)\n",
       "      (dropout): Dropout(p=0.1, inplace=False)\n",
       "    )\n",
       "    (encoder): BertEncoder(\n",
       "      (layer): ModuleList(\n",
       "        (0-11): 12 x BertLayer(\n",
       "          (attention): BertAttention(\n",
       "            (self): BertSdpaSelfAttention(\n",
       "              (query): Linear(in_features=768, out_features=768, bias=True)\n",
       "              (key): Linear(in_features=768, out_features=768, bias=True)\n",
       "              (value): Linear(in_features=768, out_features=768, bias=True)\n",
       "              (dropout): Dropout(p=0.1, inplace=False)\n",
       "            )\n",
       "            (output): BertSelfOutput(\n",
       "              (dense): Linear(in_features=768, out_features=768, bias=True)\n",
       "              (LayerNorm): LayerNorm((768,), eps=1e-12, elementwise_affine=True)\n",
       "              (dropout): Dropout(p=0.1, inplace=False)\n",
       "            )\n",
       "          )\n",
       "          (intermediate): BertIntermediate(\n",
       "            (dense): Linear(in_features=768, out_features=3072, bias=True)\n",
       "            (intermediate_act_fn): GELUActivation()\n",
       "          )\n",
       "          (output): BertOutput(\n",
       "            (dense): Linear(in_features=3072, out_features=768, bias=True)\n",
       "            (LayerNorm): LayerNorm((768,), eps=1e-12, elementwise_affine=True)\n",
       "            (dropout): Dropout(p=0.1, inplace=False)\n",
       "          )\n",
       "        )\n",
       "      )\n",
       "    )\n",
       "  )\n",
       "  (cls): BertOnlyMLMHead(\n",
       "    (predictions): BertLMPredictionHead(\n",
       "      (transform): BertPredictionHeadTransform(\n",
       "        (dense): Linear(in_features=768, out_features=768, bias=True)\n",
       "        (transform_act_fn): GELUActivation()\n",
       "        (LayerNorm): LayerNorm((768,), eps=1e-12, elementwise_affine=True)\n",
       "      )\n",
       "      (decoder): Linear(in_features=768, out_features=119547, bias=True)\n",
       "    )\n",
       "  )\n",
       ")"
      ]
     },
     "execution_count": 19,
     "metadata": {},
     "output_type": "execute_result"
    }
   ],
   "source": [
    "# jaen_eval_past100: 0.7896173224568138"
   ]
  },
  {
   "cell_type": "code",
   "execution_count": null,
   "metadata": {},
   "outputs": [],
   "source": []
  }
 ],
 "metadata": {
  "kernelspec": {
   "display_name": "greek-v1",
   "language": "python",
   "name": "python3"
  },
  "language_info": {
   "codemirror_mode": {
    "name": "ipython",
    "version": 3
   },
   "file_extension": ".py",
   "mimetype": "text/x-python",
   "name": "python",
   "nbconvert_exporter": "python",
   "pygments_lexer": "ipython3",
   "version": "3.10.13"
  }
 },
 "nbformat": 4,
 "nbformat_minor": 2
}
